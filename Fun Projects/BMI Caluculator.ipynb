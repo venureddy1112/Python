{
 "cells": [
  {
   "cell_type": "markdown",
   "metadata": {},
   "source": [
    "# BMI Caluculator"
   ]
  },
  {
   "cell_type": "code",
   "execution_count": 1,
   "metadata": {},
   "outputs": [],
   "source": [
    "def Get_my_BMI():\n",
    "    #Inputs\n",
    "    name = input(\"Enter your name:\")\n",
    "    weight_in_kg = float(input(\"Enter your weight in KG:\"))\n",
    "    height_in_feet = int(input(\"Enter your height in feet:\"))\n",
    "    height_in_inches = int(input(\"Enter the height in inches:\"))\n",
    "    \n",
    "    #Convert height into inches\n",
    "    height_total_inches = height_in_feet * 12 + height_in_inches\n",
    "    #Convert inches to meters\n",
    "    height_meters= height_total_inches*0.0254\n",
    "    \n",
    "    #BMI formula\n",
    "    BMI = weight_in_kg / (height_meters**2)\n",
    "    #print(BMI)\n",
    "\n",
    "    if BMI < 18.5:\n",
    "        print(f\"Hi {name}, you're in the underweight range according to your BMI:{BMI}\")\n",
    "        print(\"Recomendations:\")\n",
    "        print(\"BMI is less than 18.5!!!\") \n",
    "        print(\"It's important to consult with a healthcare professional to know the reason for your under weight\"\n",
    "              \"and develop a plan to reach a healthier weight.\")\n",
    "              \n",
    "    elif 18.5 <= BMI < 25:\n",
    "        print(f\"Hi {name}, you're in the healthy weight range according to your BMI:{BMI}\")\n",
    "        print(\"Recomendations:\")\n",
    "        print(\"BMI is between 18.5 and 24.9!!!\")\n",
    "        print(\"Excellent!!!!!!!!!!!\"\n",
    "              \"You are in the healthy weight range, Maintain a balanced diet and regular physical activity\" \n",
    "              \"to sustain a healthy weight.\")\n",
    "    elif 25<= BMI < 30:\n",
    "        print(f\"Hi {name}, you're in the overweight range according to your BMI:{BMI}\")\n",
    "        print(\"Recomendations:\")\n",
    "        print(\"BMI is between 25 and 29.9\")\n",
    "        print(\"Focus on more nutritious foods, portion control, and increasing physical activity like gym to manage\"\n",
    "              \"weight and reduce the risk of weight-related health issues.\")\n",
    "    else:\n",
    "        print(f\"Hi {name}, you're in the obese range according to your BMI:{BMI}\")\n",
    "        print(\"Recomendations:\")\n",
    "        print(\"BMI is 30 or higher\")\n",
    "        print(\"Seek guidance from a healthcare professional to develop a comprehensive weight management plan,\" \n",
    "              \"which may include dietary changes, regular exercise, and other lifestyle modifications.\")\n",
    "    print(\"All the best!\")\n",
    "    return\n"
   ]
  },
  {
   "cell_type": "code",
   "execution_count": 2,
   "metadata": {},
   "outputs": [
    {
     "name": "stdout",
     "output_type": "stream",
     "text": [
      "Enter your name:venu\n",
      "Enter your weight in KG:85\n",
      "Enter your height in feet:5\n",
      "Enter the height in inches:11\n",
      "Hi venu, you're in the overweight range according to your BMI:26.135739635097604\n",
      "Recomendations:\n",
      "BMI is between 25 and 29.9\n",
      "Focus on more nutritious foods, portion control, and increasing physical activity like gym to manageweight and reduce the risk of weight-related health issues.\n",
      "All the best!\n"
     ]
    }
   ],
   "source": [
    "Get_my_BMI()"
   ]
  },
  {
   "cell_type": "code",
   "execution_count": null,
   "metadata": {},
   "outputs": [],
   "source": []
  }
 ],
 "metadata": {
  "kernelspec": {
   "display_name": "Python 3",
   "language": "python",
   "name": "python3"
  },
  "language_info": {
   "codemirror_mode": {
    "name": "ipython",
    "version": 3
   },
   "file_extension": ".py",
   "mimetype": "text/x-python",
   "name": "python",
   "nbconvert_exporter": "python",
   "pygments_lexer": "ipython3",
   "version": "3.7.3"
  }
 },
 "nbformat": 4,
 "nbformat_minor": 2
}
