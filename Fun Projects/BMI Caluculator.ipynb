{
 "cells": [
  {
   "cell_type": "markdown",
   "metadata": {},
   "source": [
    "# BMI Caluculator"
   ]
  },
  {
   "cell_type": "code",
   "execution_count": 17,
   "metadata": {},
   "outputs": [
    {
     "name": "stdout",
     "output_type": "stream",
     "text": [
      "Enter your name:Venu\n",
      "Enter your weight in KG:87\n",
      "Enter your height in feet:5.11\n",
      "35.863075212401355\n",
      "Venu, you're in the obese range\n"
     ]
    }
   ],
   "source": [
    "name=input(\"Enter your name:\")\n",
    "weight=int(input(\"Enter your weight in KG:\"))\n",
    "height=float(input(\"Enter your height in feet:\"))\n",
    "\n",
    "height=height*0.3048\n",
    "\n",
    "BMI=(weight)/(height*height)\n",
    "print(BMI)\n",
    "\n",
    "if (BMI>0):\n",
    "    if BMI<18.5:\n",
    "        print(name+ \", you're in the underweight range\")\n",
    "    elif BMI<=24.9:\n",
    "        print(name+\", you're in the healthy weight range\")\n",
    "    elif BMI<29.9:\n",
    "        print(name+\", you're in the overweight range\")\n",
    "    else:\n",
    "        print(name+\", you're in the obese range\")\n",
    "else:\n",
    "    print(\"Enter valid inputs\")"
   ]
  },
  {
   "cell_type": "code",
   "execution_count": null,
   "metadata": {},
   "outputs": [],
   "source": []
  },
  {
   "cell_type": "code",
   "execution_count": null,
   "metadata": {},
   "outputs": [],
   "source": []
  }
 ],
 "metadata": {
  "kernelspec": {
   "display_name": "Python 3",
   "language": "python",
   "name": "python3"
  },
  "language_info": {
   "codemirror_mode": {
    "name": "ipython",
    "version": 3
   },
   "file_extension": ".py",
   "mimetype": "text/x-python",
   "name": "python",
   "nbconvert_exporter": "python",
   "pygments_lexer": "ipython3",
   "version": "3.7.3"
  }
 },
 "nbformat": 4,
 "nbformat_minor": 2
}
