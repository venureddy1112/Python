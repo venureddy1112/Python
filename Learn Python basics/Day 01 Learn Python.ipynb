{
 "cells": [
  {
   "cell_type": "markdown",
   "metadata": {},
   "source": [
    "# Day 01 Python"
   ]
  },
  {
   "cell_type": "code",
   "execution_count": 1,
   "metadata": {},
   "outputs": [
    {
     "name": "stdout",
     "output_type": "stream",
     "text": [
      "Hello everyone!\n"
     ]
    }
   ],
   "source": [
    "#I want to say hello to all\n",
    "print('Hello everyone!')"
   ]
  },
  {
   "cell_type": "markdown",
   "metadata": {},
   "source": [
    "# Variables"
   ]
  },
  {
   "cell_type": "code",
   "execution_count": 2,
   "metadata": {},
   "outputs": [
    {
     "name": "stdout",
     "output_type": "stream",
     "text": [
      "5\n",
      "<class 'int'>\n",
      "Dark chocolate\n"
     ]
    },
    {
     "data": {
      "text/plain": [
       "str"
      ]
     },
     "execution_count": 2,
     "metadata": {},
     "output_type": "execute_result"
    }
   ],
   "source": [
    "x=5\n",
    "print(x)\n",
    "print(type(x))\n",
    "y=\"Dark chocolate\"\n",
    "print(y)\n",
    "type(y)"
   ]
  },
  {
   "cell_type": "code",
   "execution_count": 3,
   "metadata": {},
   "outputs": [
    {
     "name": "stdout",
     "output_type": "stream",
     "text": [
      "chocolate\n"
     ]
    }
   ],
   "source": [
    "y=\"Dark chocolate\"\n",
    "y=\"chocolate\"\n",
    "print(y)"
   ]
  },
  {
   "cell_type": "code",
   "execution_count": 4,
   "metadata": {},
   "outputs": [
    {
     "name": "stdout",
     "output_type": "stream",
     "text": [
      "chocolate\n",
      "strawberry\n",
      "Rocket\n"
     ]
    }
   ],
   "source": [
    "x,y,z=\"chocolate\",\"strawberry\",\"Rocket\"\n",
    "print(x)\n",
    "print(y)\n",
    "print(z)"
   ]
  },
  {
   "cell_type": "code",
   "execution_count": 5,
   "metadata": {},
   "outputs": [
    {
     "name": "stdout",
     "output_type": "stream",
     "text": [
      "Green plant\n",
      "Green plant\n",
      "Green plant\n"
     ]
    }
   ],
   "source": [
    "x=y=z=\"Green plant\"\n",
    "print(x)\n",
    "print(y)\n",
    "print(z)"
   ]
  },
  {
   "cell_type": "code",
   "execution_count": 6,
   "metadata": {},
   "outputs": [
    {
     "name": "stdout",
     "output_type": "stream",
     "text": [
      "Honda\n",
      "Toyota\n",
      "Ford\n"
     ]
    }
   ],
   "source": [
    "cars=['Honda','Toyota','Ford']\n",
    "x,y,z=cars\n",
    "print(x)\n",
    "print(y)\n",
    "print(z)"
   ]
  },
  {
   "cell_type": "code",
   "execution_count": 7,
   "metadata": {},
   "outputs": [],
   "source": [
    "# Camel case\n",
    "# Test variable case\n",
    "\n",
    "testVariableCase=\"Venu Reddy\""
   ]
  },
  {
   "cell_type": "code",
   "execution_count": 8,
   "metadata": {},
   "outputs": [],
   "source": [
    "# Pascal case\n",
    "# Test variable case\n",
    "\n",
    "TestVariableCase=\"Venu Reddy\""
   ]
  },
  {
   "cell_type": "code",
   "execution_count": 21,
   "metadata": {},
   "outputs": [],
   "source": [
    "# Snake case (preffered to use)\n",
    "# Test variable case\n",
    "\n",
    "test_variable_case=\"Venu Reddy\""
   ]
  },
  {
   "cell_type": "code",
   "execution_count": 25,
   "metadata": {},
   "outputs": [
    {
     "name": "stdout",
     "output_type": "stream",
     "text": [
      "Ford cars are relaible.\n"
     ]
    }
   ],
   "source": [
    "#Concatination\n",
    "cars=\"Ford cars are \" + \"relaible.\"\n",
    "print(cars)"
   ]
  },
  {
   "cell_type": "code",
   "execution_count": 26,
   "metadata": {},
   "outputs": [
    {
     "name": "stdout",
     "output_type": "stream",
     "text": [
      "I love travelling\n"
     ]
    }
   ],
   "source": [
    "x=\"I\"\n",
    "y=\" love\"\n",
    "z=\" travelling\"\n",
    "print(x+y+z)"
   ]
  },
  {
   "cell_type": "code",
   "execution_count": 27,
   "metadata": {},
   "outputs": [
    {
     "name": "stdout",
     "output_type": "stream",
     "text": [
      "Final value is: 4.0\n"
     ]
    }
   ],
   "source": [
    "s_num=20\n",
    "s_mul=s_num*5\n",
    "print(\"Final value is:\", s_mul/25)"
   ]
  },
  {
   "cell_type": "code",
   "execution_count": 28,
   "metadata": {},
   "outputs": [
    {
     "name": "stdout",
     "output_type": "stream",
     "text": [
      "Venu Gopal Reddy Marella\n",
      "07887862979\n"
     ]
    }
   ],
   "source": [
    "First_name=\"Venu Gopal Reddy\"\n",
    "Last_name=\"Marella\"\n",
    "Mobile_no=\"07887862979\"\n",
    "\n",
    "print(First_name + \"\", Last_name)\n",
    "print(Mobile_no)"
   ]
  },
  {
   "cell_type": "code",
   "execution_count": null,
   "metadata": {},
   "outputs": [],
   "source": []
  },
  {
   "cell_type": "markdown",
   "metadata": {},
   "source": [
    "# Data Types"
   ]
  },
  {
   "cell_type": "code",
   "execution_count": 2,
   "metadata": {},
   "outputs": [
    {
     "name": "stdout",
     "output_type": "stream",
     "text": [
      "<class 'int'>\n",
      "<class 'float'>\n",
      "<class 'complex'>\n",
      "<class 'str'>\n",
      "<class 'list'>\n",
      "<class 'dict'>\n",
      "<class 'set'>\n",
      "<class 'tuple'>\n"
     ]
    }
   ],
   "source": [
    "print(type(5))\n",
    "print(type(5.12))\n",
    "print(type(2+1j))\n",
    "print(type(\"Python\"))\n",
    "print(type([2,5,8]))\n",
    "print(type({'Learn':'Python'}))\n",
    "print(type({2,5,8}))\n",
    "print(type((3,6.5,7,8)))"
   ]
  },
  {
   "cell_type": "markdown",
   "metadata": {},
   "source": [
    "# Converting Data Types"
   ]
  },
  {
   "cell_type": "code",
   "execution_count": 3,
   "metadata": {},
   "outputs": [
    {
     "data": {
      "text/plain": [
       "int"
      ]
     },
     "execution_count": 3,
     "metadata": {},
     "output_type": "execute_result"
    }
   ],
   "source": [
    "a = 55\n",
    "type(a)"
   ]
  },
  {
   "cell_type": "code",
   "execution_count": 4,
   "metadata": {},
   "outputs": [
    {
     "data": {
      "text/plain": [
       "str"
      ]
     },
     "execution_count": 4,
     "metadata": {},
     "output_type": "execute_result"
    }
   ],
   "source": [
    "b='60'\n",
    "type(b)"
   ]
  },
  {
   "cell_type": "code",
   "execution_count": 5,
   "metadata": {},
   "outputs": [
    {
     "data": {
      "text/plain": [
       "int"
      ]
     },
     "execution_count": 5,
     "metadata": {},
     "output_type": "execute_result"
    }
   ],
   "source": [
    "#String to integer type\n",
    "con_int = int(b)\n",
    "type(con_int)"
   ]
  },
  {
   "cell_type": "code",
   "execution_count": 6,
   "metadata": {},
   "outputs": [
    {
     "name": "stdout",
     "output_type": "stream",
     "text": [
      "115\n"
     ]
    }
   ],
   "source": [
    "add = a + con_int\n",
    "print(add)"
   ]
  },
  {
   "cell_type": "code",
   "execution_count": 7,
   "metadata": {},
   "outputs": [
    {
     "data": {
      "text/plain": [
       "list"
      ]
     },
     "execution_count": 7,
     "metadata": {},
     "output_type": "execute_result"
    }
   ],
   "source": [
    "#List\n",
    "list_tup = [2,2,5]\n",
    "type(list_tup)"
   ]
  },
  {
   "cell_type": "code",
   "execution_count": 8,
   "metadata": {},
   "outputs": [
    {
     "data": {
      "text/plain": [
       "tuple"
      ]
     },
     "execution_count": 8,
     "metadata": {},
     "output_type": "execute_result"
    }
   ],
   "source": [
    "#List to tuple\n",
    "type(tuple(list_tup))"
   ]
  },
  {
   "cell_type": "code",
   "execution_count": 9,
   "metadata": {},
   "outputs": [],
   "source": [
    "list_set=[2,2,5,8,6]"
   ]
  },
  {
   "cell_type": "code",
   "execution_count": 10,
   "metadata": {},
   "outputs": [
    {
     "name": "stdout",
     "output_type": "stream",
     "text": [
      "<class 'set'>\n",
      "{8, 2, 5, 6}\n"
     ]
    }
   ],
   "source": [
    "#List to set\n",
    "conv_set=set(list_set)\n",
    "print(type(conv_set))\n",
    "print(conv_set)"
   ]
  },
  {
   "cell_type": "code",
   "execution_count": 11,
   "metadata": {},
   "outputs": [
    {
     "data": {
      "text/plain": [
       "dict"
      ]
     },
     "execution_count": 11,
     "metadata": {},
     "output_type": "execute_result"
    }
   ],
   "source": [
    "#Dictionary\n",
    "dict_type={'name':'venu','age':26}\n",
    "type(dict_type)"
   ]
  },
  {
   "cell_type": "code",
   "execution_count": 12,
   "metadata": {},
   "outputs": [
    {
     "name": "stdout",
     "output_type": "stream",
     "text": [
      "dict_keys(['name', 'age'])\n",
      "dict_values(['venu', 26])\n",
      "dict_items([('name', 'venu'), ('age', 26)])\n"
     ]
    }
   ],
   "source": [
    "print(dict_type.keys())\n",
    "print(dict_type.values())\n",
    "print(dict_type.items())"
   ]
  },
  {
   "cell_type": "code",
   "execution_count": 15,
   "metadata": {},
   "outputs": [
    {
     "name": "stdout",
     "output_type": "stream",
     "text": [
      "['name', 'age']\n"
     ]
    },
    {
     "data": {
      "text/plain": [
       "list"
      ]
     },
     "execution_count": 15,
     "metadata": {},
     "output_type": "execute_result"
    }
   ],
   "source": [
    "print(list(dict_type.keys()))\n",
    "type(list(dict_type.keys()))"
   ]
  },
  {
   "cell_type": "code",
   "execution_count": 16,
   "metadata": {},
   "outputs": [
    {
     "name": "stdout",
     "output_type": "stream",
     "text": [
      "['venu', 26]\n"
     ]
    },
    {
     "data": {
      "text/plain": [
       "list"
      ]
     },
     "execution_count": 16,
     "metadata": {},
     "output_type": "execute_result"
    }
   ],
   "source": [
    "print(list(dict_type.values()))\n",
    "type(list(dict_type.values()))"
   ]
  },
  {
   "cell_type": "code",
   "execution_count": null,
   "metadata": {},
   "outputs": [],
   "source": []
  },
  {
   "cell_type": "markdown",
   "metadata": {},
   "source": [
    "# Basic math operations"
   ]
  },
  {
   "cell_type": "code",
   "execution_count": 17,
   "metadata": {},
   "outputs": [
    {
     "name": "stdout",
     "output_type": "stream",
     "text": [
      "Addition results:\n",
      "4\n",
      "19\n",
      "Subraction results:\n",
      "3\n",
      "-6\n",
      "Multiplication results:\n",
      "10\n",
      "6\n",
      "Division results:\n",
      "2.5\n",
      "Exponential results:\n",
      "8\n",
      "Modulus results:\n",
      "4\n",
      "Floor division results:\n",
      "1\n"
     ]
    }
   ],
   "source": [
    "#Addition\n",
    "print(\"Addition results:\")\n",
    "print(2+2)\n",
    "print(3+5+5+6)\n",
    "#Subtraction\n",
    "print(\"Subraction results:\")\n",
    "print(5-2)\n",
    "print(3-9)\n",
    "#multiplication\n",
    "print(\"Multiplication results:\")\n",
    "print(5*2)\n",
    "print(2*3*1)\n",
    "#Division\n",
    "print(\"Division results:\")\n",
    "print(5/2)\n",
    "#Exponential\n",
    "print(\"Exponential results:\")\n",
    "print(2**3)\n",
    "#Modulus\n",
    "print(\"Modulus results:\")\n",
    "print(9%5)\n",
    "#Floor division\n",
    "print(\"Floor division results:\")\n",
    "print(3//2)"
   ]
  },
  {
   "cell_type": "markdown",
   "metadata": {},
   "source": [
    "# Built in functions"
   ]
  },
  {
   "cell_type": "code",
   "execution_count": 18,
   "metadata": {},
   "outputs": [
    {
     "name": "stdout",
     "output_type": "stream",
     "text": [
      "Built in function\n",
      "Length of Python is: 6\n"
     ]
    }
   ],
   "source": [
    "print(\"Built in function\")\n",
    "print(\"Length of Python is:\",len('Python'))"
   ]
  },
  {
   "cell_type": "code",
   "execution_count": 19,
   "metadata": {},
   "outputs": [
    {
     "name": "stdout",
     "output_type": "stream",
     "text": [
      "Float to integer: 5\n",
      "Integer to float: 2.0\n",
      "Float to string: <class 'str'>\n"
     ]
    }
   ],
   "source": [
    "print(\"Float to integer:\",int(5.2))\n",
    "print(\"Integer to float:\",float(2))\n",
    "print(\"Float to string:\",type(str(5.2)))"
   ]
  },
  {
   "cell_type": "code",
   "execution_count": 20,
   "metadata": {},
   "outputs": [
    {
     "name": "stdout",
     "output_type": "stream",
     "text": [
      "Enter your name:venu\n",
      "country:india\n",
      "Age:26\n",
      "Gender:male\n"
     ]
    },
    {
     "data": {
      "text/plain": [
       "'male'"
      ]
     },
     "execution_count": 20,
     "metadata": {},
     "output_type": "execute_result"
    }
   ],
   "source": [
    "input('Enter your name:')\n",
    "input('country:')\n",
    "input('Age:')\n",
    "input('Gender:')"
   ]
  },
  {
   "cell_type": "code",
   "execution_count": 21,
   "metadata": {},
   "outputs": [
    {
     "name": "stdout",
     "output_type": "stream",
     "text": [
      "Enter your number1:55\n",
      "Enter your number2:60\n",
      "Addition of your two numbers is: 115\n"
     ]
    }
   ],
   "source": [
    "#Adding two numbers by giving 2 input numbers\n",
    "user_num1 = input('Enter your number1:')\n",
    "user_num2 = input('Enter your number2:')\n",
    "user_num1 = int(user_num1)\n",
    "user_num2 = int(user_num2)\n",
    "print('Addition of your two numbers is:', user_num1+user_num2)"
   ]
  },
  {
   "cell_type": "code",
   "execution_count": 22,
   "metadata": {},
   "outputs": [
    {
     "name": "stdout",
     "output_type": "stream",
     "text": [
      "Biggest number is: 63\n",
      "Small number is: 5\n",
      "Total sum is: 84\n"
     ]
    }
   ],
   "source": [
    "print(\"Biggest number is:\", max(5,9,63,7))\n",
    "print(\"Small number is:\", min(5,9,63,7))\n",
    "print(\"Total sum is:\", sum([5,9,63,7]))"
   ]
  },
  {
   "cell_type": "code",
   "execution_count": 23,
   "metadata": {},
   "outputs": [
    {
     "name": "stdout",
     "output_type": "stream",
     "text": [
      "5\n",
      "5.0990195135927845\n"
     ]
    }
   ],
   "source": [
    "print(abs(-5))\n",
    "print(abs(1+5j))"
   ]
  },
  {
   "cell_type": "code",
   "execution_count": 24,
   "metadata": {},
   "outputs": [
    {
     "name": "stdout",
     "output_type": "stream",
     "text": [
      "125\n"
     ]
    }
   ],
   "source": [
    "print(pow(5,3))"
   ]
  },
  {
   "cell_type": "code",
   "execution_count": 25,
   "metadata": {},
   "outputs": [
    {
     "name": "stdout",
     "output_type": "stream",
     "text": [
      "6\n",
      "5\n"
     ]
    }
   ],
   "source": [
    "print(round(5.6))\n",
    "print(round(5.4))"
   ]
  },
  {
   "cell_type": "code",
   "execution_count": null,
   "metadata": {},
   "outputs": [],
   "source": []
  }
 ],
 "metadata": {
  "kernelspec": {
   "display_name": "Python 3",
   "language": "python",
   "name": "python3"
  },
  "language_info": {
   "codemirror_mode": {
    "name": "ipython",
    "version": 3
   },
   "file_extension": ".py",
   "mimetype": "text/x-python",
   "name": "python",
   "nbconvert_exporter": "python",
   "pygments_lexer": "ipython3",
   "version": "3.7.3"
  }
 },
 "nbformat": 4,
 "nbformat_minor": 2
}
