{
 "cells": [
  {
   "cell_type": "markdown",
   "metadata": {},
   "source": [
    "# Indexing"
   ]
  },
  {
   "cell_type": "code",
   "execution_count": 1,
   "metadata": {},
   "outputs": [
    {
     "name": "stdout",
     "output_type": "stream",
     "text": [
      "8\n",
      "Honda\n",
      "Skoda\n",
      "['Honda', 'KIA', 'Ford', 'Skoda', 'Benz']\n",
      "['Benz', 'Tayota', 'Chevrolet', 'Volva']\n",
      "Volva\n"
     ]
    }
   ],
   "source": [
    "#List of car company names and print them using index values\n",
    "car_names = [\"Honda\", \"KIA\", \"Ford\", \"Skoda\", \"Benz\", \"Tayota\", \"Chevrolet\", \"Volva\"]\n",
    "print(len(car_names))\n",
    "print(car_names[0]) # First value\n",
    "print(car_names[3]) # 4th value in the list\n",
    "print(car_names[:5]) # prunts 1 to 4 \n",
    "print(car_names[4:]) # 4th index/5th values in list to end \n",
    "print(car_names[-1]) # Last value in the list"
   ]
  },
  {
   "cell_type": "code",
   "execution_count": 2,
   "metadata": {},
   "outputs": [
    {
     "name": "stdout",
     "output_type": "stream",
     "text": [
      "Give your Index:4\n",
      "Index 4 is: Benz\n"
     ]
    }
   ],
   "source": [
    "#User should ask for particular index value\n",
    "index = int(input(\"Give your Index:\"))\n",
    "print(f\"Index {index} is:\", car_names[index])"
   ]
  },
  {
   "cell_type": "code",
   "execution_count": 3,
   "metadata": {},
   "outputs": [
    {
     "name": "stdout",
     "output_type": "stream",
     "text": [
      "['Honda', 'KIA', 'Ford', 'BMW', 'Benz', 'Tayota', 'Chevrolet', 'Volva']\n"
     ]
    }
   ],
   "source": [
    "#Change or replace using index\n",
    "car_names[3] = \"BMW\"\n",
    "print(car_names)"
   ]
  },
  {
   "cell_type": "code",
   "execution_count": 4,
   "metadata": {},
   "outputs": [
    {
     "name": "stdout",
     "output_type": "stream",
     "text": [
      "['Honda Civic', 'KIA', 'Ford', 'BMW', 'Benz', 'Tayota', 'Chevrolet', 'Volva']\n"
     ]
    }
   ],
   "source": [
    "#Modify\n",
    "car_names[0] += \" Civic\"\n",
    "print(car_names)"
   ]
  },
  {
   "cell_type": "code",
   "execution_count": 5,
   "metadata": {},
   "outputs": [
    {
     "name": "stdout",
     "output_type": "stream",
     "text": [
      "['Honda Civic', 'KIA', 'Ford', 'BMW', 'Benz', 'Tayota', 'Chevrolet', 'Volva', 'Tata']\n"
     ]
    }
   ],
   "source": [
    "#Append\n",
    "car_names.append(\"Tata\")\n",
    "print(car_names)"
   ]
  },
  {
   "cell_type": "code",
   "execution_count": 6,
   "metadata": {},
   "outputs": [
    {
     "name": "stdout",
     "output_type": "stream",
     "text": [
      "['Honda Civic', 'KIA', 'Ford', 'Audi', 'BMW', 'Benz', 'Tayota', 'Chevrolet', 'Volva', 'Tata']\n",
      "10\n"
     ]
    }
   ],
   "source": [
    "#Insert\n",
    "car_names.insert(3, \"Audi\")\n",
    "print(car_names)\n",
    "print(len(car_names))"
   ]
  },
  {
   "cell_type": "code",
   "execution_count": 7,
   "metadata": {},
   "outputs": [
    {
     "name": "stdout",
     "output_type": "stream",
     "text": [
      "New car:Alfa\n",
      "Choose index number for Alfa :0\n",
      "['Alfa', 'Honda Civic', 'KIA', 'Ford', 'Audi', 'BMW', 'Benz', 'Tayota', 'Chevrolet', 'Volva', 'Tata']\n"
     ]
    }
   ],
   "source": [
    "new_entry = input(\"New car:\")\n",
    "choose_index = int(input(f\"Choose index number for {new_entry} :\"))\n",
    "car_names.insert(choose_index, new_entry)\n",
    "print(car_names)"
   ]
  },
  {
   "cell_type": "code",
   "execution_count": 8,
   "metadata": {},
   "outputs": [
    {
     "name": "stdout",
     "output_type": "stream",
     "text": [
      "['Alfa', 'Honda Civic', 'KIA', 'Ford', 'Audi', 'BMW', 'Benz', 'Tayota', 'Chevrolet', 'Volva', 'Tata', 'Nissan', 'MG']\n"
     ]
    }
   ],
   "source": [
    "#Add multiple entries using Extend\n",
    "new_cars = [\"Nissan\", \"MG\"]\n",
    "car_names.extend(new_cars)\n",
    "print(car_names)"
   ]
  },
  {
   "cell_type": "code",
   "execution_count": null,
   "metadata": {},
   "outputs": [],
   "source": []
  }
 ],
 "metadata": {
  "kernelspec": {
   "display_name": "Python 3",
   "language": "python",
   "name": "python3"
  },
  "language_info": {
   "codemirror_mode": {
    "name": "ipython",
    "version": 3
   },
   "file_extension": ".py",
   "mimetype": "text/x-python",
   "name": "python",
   "nbconvert_exporter": "python",
   "pygments_lexer": "ipython3",
   "version": "3.7.3"
  }
 },
 "nbformat": 4,
 "nbformat_minor": 2
}
