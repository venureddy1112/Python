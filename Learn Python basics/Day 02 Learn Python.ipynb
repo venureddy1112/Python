{
 "cells": [
  {
   "cell_type": "markdown",
   "metadata": {},
   "source": [
    "# String formatting"
   ]
  },
  {
   "cell_type": "code",
   "execution_count": 4,
   "metadata": {},
   "outputs": [
    {
     "name": "stdout",
     "output_type": "stream",
     "text": [
      "Final value is: 4.0\n"
     ]
    }
   ],
   "source": [
    "s_num=20\n",
    "s_mul=s_num*5\n",
    "s_div=25\n",
    "print(\"Final value is:\", s_mul/s_div)\n"
   ]
  },
  {
   "cell_type": "code",
   "execution_count": 5,
   "metadata": {},
   "outputs": [
    {
     "name": "stdout",
     "output_type": "stream",
     "text": [
      "My budget for a mobile: 765\n"
     ]
    }
   ],
   "source": [
    "phone_cost=650\n",
    "headset=100\n",
    "phone_case=10\n",
    "screen_glass=5\n",
    "total_cost=(phone_cost+headset+phone_case+screen_glass)\n",
    "print(\"My budget for a mobile:\", total_cost)"
   ]
  },
  {
   "cell_type": "code",
   "execution_count": 10,
   "metadata": {},
   "outputs": [
    {
     "name": "stdout",
     "output_type": "stream",
     "text": [
      "Enter your name:venu\n",
      "Enter your salary:1200\n",
      "Enter your expensives:900\n",
      "venu You can save up to: 300\n"
     ]
    }
   ],
   "source": [
    "user_name = input('Enter your name:')\n",
    "user_sal = int(input('Enter your salary:'))\n",
    "user_expensives = int(input('Enter your expensives:'))\n",
    "print(user_name, \"You can save up to:\", user_sal-user_expensives)"
   ]
  },
  {
   "cell_type": "code",
   "execution_count": 11,
   "metadata": {},
   "outputs": [
    {
     "name": "stdout",
     "output_type": "stream",
     "text": [
      "Lots of Python books are sold, nearly 45501 Python books were sold out.\n",
      "Lots of Python books are sold, nearly 45501 Python books were sold out. Each book costs 50. Based on the books sold total earnings is 2275050 pounds\n"
     ]
    }
   ],
   "source": [
    "book_name = \"Python\"\n",
    "no_books_sold = 45501\n",
    "cost_each_book = 50\n",
    "#print(books_sold, \"Python books were sold\")\n",
    "print(f\"Lots of {book_name} books are sold, nearly {no_books_sold} Python books were sold out.\")\n",
    "\n",
    "print(f\"Lots of {book_name} books are sold, nearly {no_books_sold} Python books were sold out. Each book \"\n",
    "      f\"costs {cost_each_book}. Based on the books sold total earnings is {no_books_sold*cost_each_book} pounds\")\n"
   ]
  },
  {
   "cell_type": "code",
   "execution_count": 6,
   "metadata": {},
   "outputs": [
    {
     "name": "stdout",
     "output_type": "stream",
     "text": [
      "Enter your number1:5\n",
      "Enter your number2:3\n",
      "Addition of your two numbers is: 8\n",
      "5 X 3= 15\n"
     ]
    }
   ],
   "source": [
    "#Adding two numbers by giving 2 input numbers\n",
    "user_num1 = int(input('Enter your number1:'))\n",
    "user_num2 = int(input('Enter your number2:'))\n",
    "#user_num1 = int(user_num1)\n",
    "#user_num2 = int(user_num2)\n",
    "print('Addition of your two numbers is:', user_num1+user_num2)\n",
    "print(f'{user_num1} X {user_num2}=', user_num1*user_num2)"
   ]
  },
  {
   "cell_type": "markdown",
   "metadata": {},
   "source": [
    "# Conditional operators"
   ]
  },
  {
   "cell_type": "markdown",
   "metadata": {},
   "source": [
    "Greater than (>)\n",
    "Greater than or equal to (=>) \n",
    "Less than (<)\n",
    "Less than or equal to (<=)\n",
    "Equals to (==)\n",
    "Not equal (!=)\n",
    "And\n",
    "Or"
   ]
  },
  {
   "cell_type": "code",
   "execution_count": 7,
   "metadata": {},
   "outputs": [
    {
     "name": "stdout",
     "output_type": "stream",
     "text": [
      "Dell is expensive than HP: True\n",
      "Dell is cheaper than HP: False\n",
      "Dell price is same as HP price: False\n",
      "Dell price is not same as HP price: True\n"
     ]
    }
   ],
   "source": [
    "dell_price = 1200\n",
    "hp_price = 850\n",
    "\n",
    "print(\"Dell is expensive than HP:\", dell_price > hp_price)\n",
    "print(\"Dell is cheaper than HP:\", dell_price < hp_price)\n",
    "print(\"Dell price is same as HP price:\", dell_price == hp_price)\n",
    "print(\"Dell price is not same as HP price:\", dell_price != hp_price)"
   ]
  },
  {
   "cell_type": "markdown",
   "metadata": {},
   "source": [
    "# If, elif, and else"
   ]
  },
  {
   "cell_type": "code",
   "execution_count": 8,
   "metadata": {},
   "outputs": [
    {
     "name": "stdout",
     "output_type": "stream",
     "text": [
      "DELL :1200$, HP :850$. DELL is expensive than HP\n",
      "Dell and HP prices are not equal!\n"
     ]
    }
   ],
   "source": [
    "#IF\n",
    "if dell_price < hp_price:\n",
    "    print(f'DELL :{dell_price}$, HP :{hp_price}$. DELL is cheaper than HP')\n",
    "else:\n",
    "    print(f'DELL :{dell_price}$, HP :{hp_price}$. DELL is expensive than HP')\n",
    "\n",
    "if dell_price == hp_price:\n",
    "    print('DELL and HP prices are equal!')\n",
    "else:\n",
    "    print('Dell and HP prices are not equal!')"
   ]
  },
  {
   "cell_type": "code",
   "execution_count": 9,
   "metadata": {},
   "outputs": [
    {
     "name": "stdout",
     "output_type": "stream",
     "text": [
      "Team name:man\n",
      "Score:3\n",
      "Team name:wales\n",
      "Score:5\n",
      "Match results -> man beat wales,with 3:5 Goal score difference.\n"
     ]
    }
   ],
   "source": [
    "#Football game results\n",
    "Football_team1 = input('Team name:')\n",
    "team1_score = int(input('Score:'))\n",
    "Football_team2 = input('Team name:')\n",
    "team2_score = int(input('Score:'))\n",
    "\n",
    "print(f'Match results -> {Football_team1} beat {Football_team2},'\n",
    "      f'with {team1_score}:{team2_score} Goal score difference.')"
   ]
  },
  {
   "cell_type": "code",
   "execution_count": 10,
   "metadata": {},
   "outputs": [
    {
     "name": "stdout",
     "output_type": "stream",
     "text": [
      "wales beats man\n"
     ]
    }
   ],
   "source": [
    "#ELSEIF\n",
    "if team1_score == team2_score:\n",
    "      print(f'{Football_team1}&{Football_team2} match is a tie')\n",
    "elif team1_score > team2_score:\n",
    "      print(f'{Football_team1} beats {Football_team2}')\n",
    "else:\n",
    "      print(f'{Football_team2} beats {Football_team1}')"
   ]
  },
  {
   "cell_type": "code",
   "execution_count": 11,
   "metadata": {},
   "outputs": [
    {
     "name": "stdout",
     "output_type": "stream",
     "text": [
      "5\n",
      "(5.5, 5.9, 5.6)\n"
     ]
    }
   ],
   "source": [
    "#Length\n",
    "heights = (5.5,5.9,5.6,5.5,6)\n",
    "print(len(heights))\n",
    "print(heights[0:3])"
   ]
  },
  {
   "cell_type": "code",
   "execution_count": 12,
   "metadata": {},
   "outputs": [
    {
     "name": "stdout",
     "output_type": "stream",
     "text": [
      "Enter your name:venu\n",
      "venu is correct!\n"
     ]
    }
   ],
   "source": [
    "#Ask the user for name input and set range for length of name, then check to see if the length of name is in range or not\n",
    "min_range = 4\n",
    "max_range = 7\n",
    "name = input(\"Enter your name:\")\n",
    "len_name = len(name)\n",
    "\n",
    "if len_name < min_range:\n",
    "    print(f\"{name} is too short\")\n",
    "elif len(name) > max_range:\n",
    "    print(f\"{name} is too big\" )\n",
    "else:\n",
    "    print(f\"{name} is correct!\")"
   ]
  },
  {
   "cell_type": "code",
   "execution_count": 13,
   "metadata": {},
   "outputs": [
    {
     "name": "stdout",
     "output_type": "stream",
     "text": [
      "venu is correct!\n"
     ]
    }
   ],
   "source": [
    "if len_name >= min_range and len_name <= max_range:\n",
    "    print(f\"{name} is correct!\")\n",
    "elif len_name < min_range:\n",
    "    print(f\"{name} is too short\")\n",
    "else:\n",
    "    print(f\"{name} is too big\")"
   ]
  },
  {
   "cell_type": "code",
   "execution_count": null,
   "metadata": {},
   "outputs": [],
   "source": []
  },
  {
   "cell_type": "code",
   "execution_count": null,
   "metadata": {},
   "outputs": [],
   "source": []
  }
 ],
 "metadata": {
  "kernelspec": {
   "display_name": "Python 3",
   "language": "python",
   "name": "python3"
  },
  "language_info": {
   "codemirror_mode": {
    "name": "ipython",
    "version": 3
   },
   "file_extension": ".py",
   "mimetype": "text/x-python",
   "name": "python",
   "nbconvert_exporter": "python",
   "pygments_lexer": "ipython3",
   "version": "3.7.3"
  }
 },
 "nbformat": 4,
 "nbformat_minor": 2
}
