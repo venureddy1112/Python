{
 "cells": [
  {
   "cell_type": "code",
   "execution_count": 1,
   "metadata": {},
   "outputs": [],
   "source": [
    "#Import libraries\n",
    "from bs4 import BeautifulSoup\n",
    "import requests\n",
    "import openpyxl\n",
    "from openpyxl import Workbook"
   ]
  },
  {
   "cell_type": "code",
   "execution_count": 2,
   "metadata": {},
   "outputs": [],
   "source": [
    "#creating excel workbook\n",
    "excel= Workbook()"
   ]
  },
  {
   "cell_type": "code",
   "execution_count": 3,
   "metadata": {},
   "outputs": [
    {
     "name": "stdout",
     "output_type": "stream",
     "text": [
      "['Top Rated Movies']\n"
     ]
    }
   ],
   "source": [
    "sheet=excel.active\n",
    "sheet.title='Top Rated Movies'  # Giving name to the sheet\n",
    "print(excel.sheetnames)"
   ]
  },
  {
   "cell_type": "code",
   "execution_count": 4,
   "metadata": {},
   "outputs": [],
   "source": [
    "sheet.append(['Rank','Movie Name','Year of Release','IMDB Rating'])"
   ]
  },
  {
   "cell_type": "code",
   "execution_count": 5,
   "metadata": {},
   "outputs": [],
   "source": [
    "try:\n",
    "    source = requests.get('https://www.imdb.com/chart/toptv/')\n",
    "    source.raise_for_status() #to check the valid url\n",
    "    \n",
    "    soup=BeautifulSoup(source.text,'html.parser')\n",
    "    #print(soup)\n",
    "    movies= soup.find('tbody', class_=\"lister-list\").find_all('tr')\n",
    "    #print(len(movies))\n",
    "    for movie in movies:\n",
    "        name=movie.find('td', class_='titleColumn').a.text  #extracting name of the movie\n",
    "        rank=movie.find('td', class_='titleColumn').get_text(strip=True).split('.')[0] #extracting rank of the movie\n",
    "        year=movie.find('td', class_='titleColumn').span.text.strip('()') #extracting year of the movie\n",
    "        rating=movie.find('td', class_='ratingColumn imdbRating').strong.text #extracting rating of the movie\n",
    "        \n",
    "        #print(rank, name, year, rating)\n",
    "        sheet.append([rank, name, year, rating])\n",
    "        #break\n",
    "    \n",
    "except exception as e:\n",
    "    print(e)\n",
    "    "
   ]
  },
  {
   "cell_type": "code",
   "execution_count": 6,
   "metadata": {},
   "outputs": [],
   "source": [
    "#Save the scraped data in excel file\n",
    "excel.save(\"IMDB Movie Ratings.xlsx\") #It will save in this location C:\\Users\\DELL"
   ]
  },
  {
   "cell_type": "code",
   "execution_count": null,
   "metadata": {},
   "outputs": [],
   "source": []
  },
  {
   "cell_type": "code",
   "execution_count": null,
   "metadata": {},
   "outputs": [],
   "source": []
  },
  {
   "cell_type": "code",
   "execution_count": null,
   "metadata": {},
   "outputs": [],
   "source": []
  }
 ],
 "metadata": {
  "kernelspec": {
   "display_name": "Python 3",
   "language": "python",
   "name": "python3"
  },
  "language_info": {
   "codemirror_mode": {
    "name": "ipython",
    "version": 3
   },
   "file_extension": ".py",
   "mimetype": "text/x-python",
   "name": "python",
   "nbconvert_exporter": "python",
   "pygments_lexer": "ipython3",
   "version": "3.7.3"
  }
 },
 "nbformat": 4,
 "nbformat_minor": 2
}
