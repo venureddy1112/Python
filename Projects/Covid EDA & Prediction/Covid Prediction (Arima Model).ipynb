{
 "cells": [
  {
   "cell_type": "code",
   "execution_count": 1,
   "metadata": {},
   "outputs": [],
   "source": [
    "import numpy as np \n",
    "import pandas as pd\n",
    "import matplotlib\n",
    "import matplotlib.pyplot as plt \n",
    "import seaborn as sns\n",
    "from datetime import date\n",
    "import datetime\n",
    "from statsmodels.tsa.arima_model import ARIMA"
   ]
  },
  {
   "cell_type": "code",
   "execution_count": null,
   "metadata": {},
   "outputs": [],
   "source": []
  },
  {
   "cell_type": "code",
   "execution_count": 3,
   "metadata": {},
   "outputs": [
    {
     "data": {
      "text/html": [
       "<div>\n",
       "<style scoped>\n",
       "    .dataframe tbody tr th:only-of-type {\n",
       "        vertical-align: middle;\n",
       "    }\n",
       "\n",
       "    .dataframe tbody tr th {\n",
       "        vertical-align: top;\n",
       "    }\n",
       "\n",
       "    .dataframe thead th {\n",
       "        text-align: right;\n",
       "    }\n",
       "</style>\n",
       "<table border=\"1\" class=\"dataframe\">\n",
       "  <thead>\n",
       "    <tr style=\"text-align: right;\">\n",
       "      <th></th>\n",
       "      <th>SNo</th>\n",
       "      <th>ObservationDate</th>\n",
       "      <th>Province/State</th>\n",
       "      <th>Country/Region</th>\n",
       "      <th>Last Update</th>\n",
       "      <th>Confirmed</th>\n",
       "      <th>Deaths</th>\n",
       "      <th>Recovered</th>\n",
       "    </tr>\n",
       "  </thead>\n",
       "  <tbody>\n",
       "    <tr>\n",
       "      <th>0</th>\n",
       "      <td>1</td>\n",
       "      <td>01/22/2020</td>\n",
       "      <td>Anhui</td>\n",
       "      <td>Mainland China</td>\n",
       "      <td>1/22/2020 17:00</td>\n",
       "      <td>1.0</td>\n",
       "      <td>0.0</td>\n",
       "      <td>0.0</td>\n",
       "    </tr>\n",
       "    <tr>\n",
       "      <th>1</th>\n",
       "      <td>2</td>\n",
       "      <td>01/22/2020</td>\n",
       "      <td>Beijing</td>\n",
       "      <td>Mainland China</td>\n",
       "      <td>1/22/2020 17:00</td>\n",
       "      <td>14.0</td>\n",
       "      <td>0.0</td>\n",
       "      <td>0.0</td>\n",
       "    </tr>\n",
       "    <tr>\n",
       "      <th>2</th>\n",
       "      <td>3</td>\n",
       "      <td>01/22/2020</td>\n",
       "      <td>Chongqing</td>\n",
       "      <td>Mainland China</td>\n",
       "      <td>1/22/2020 17:00</td>\n",
       "      <td>6.0</td>\n",
       "      <td>0.0</td>\n",
       "      <td>0.0</td>\n",
       "    </tr>\n",
       "    <tr>\n",
       "      <th>3</th>\n",
       "      <td>4</td>\n",
       "      <td>01/22/2020</td>\n",
       "      <td>Fujian</td>\n",
       "      <td>Mainland China</td>\n",
       "      <td>1/22/2020 17:00</td>\n",
       "      <td>1.0</td>\n",
       "      <td>0.0</td>\n",
       "      <td>0.0</td>\n",
       "    </tr>\n",
       "    <tr>\n",
       "      <th>4</th>\n",
       "      <td>5</td>\n",
       "      <td>01/22/2020</td>\n",
       "      <td>Gansu</td>\n",
       "      <td>Mainland China</td>\n",
       "      <td>1/22/2020 17:00</td>\n",
       "      <td>0.0</td>\n",
       "      <td>0.0</td>\n",
       "      <td>0.0</td>\n",
       "    </tr>\n",
       "  </tbody>\n",
       "</table>\n",
       "</div>"
      ],
      "text/plain": [
       "   SNo ObservationDate Province/State  Country/Region      Last Update  \\\n",
       "0    1      01/22/2020          Anhui  Mainland China  1/22/2020 17:00   \n",
       "1    2      01/22/2020        Beijing  Mainland China  1/22/2020 17:00   \n",
       "2    3      01/22/2020      Chongqing  Mainland China  1/22/2020 17:00   \n",
       "3    4      01/22/2020         Fujian  Mainland China  1/22/2020 17:00   \n",
       "4    5      01/22/2020          Gansu  Mainland China  1/22/2020 17:00   \n",
       "\n",
       "   Confirmed  Deaths  Recovered  \n",
       "0        1.0     0.0        0.0  \n",
       "1       14.0     0.0        0.0  \n",
       "2        6.0     0.0        0.0  \n",
       "3        1.0     0.0        0.0  \n",
       "4        0.0     0.0        0.0  "
      ]
     },
     "execution_count": 3,
     "metadata": {},
     "output_type": "execute_result"
    }
   ],
   "source": [
    "df= pd.read_csv('F:/studies/project/New folder/covid_19_data.csv')\n",
    "df.head()"
   ]
  },
  {
   "cell_type": "code",
   "execution_count": 4,
   "metadata": {},
   "outputs": [],
   "source": [
    "df['ObservationDate'] = pd.to_datetime(df['ObservationDate'])\n",
    "#df['Last Update'] = pd.to_datetime(df['Last Update'])\n",
    "df['Confirmed']=df['Confirmed'].astype('int')\n",
    "df['Deaths']=df['Deaths'].astype('int')\n",
    "df['Recovered']=df['Recovered'].astype('int')"
   ]
  },
  {
   "cell_type": "code",
   "execution_count": 5,
   "metadata": {},
   "outputs": [
    {
     "data": {
      "image/png": "[encoded data removed]",
      "text/plain": [
       "<Figure size 720x576 with 1 Axes>"
      ]
     },
     "metadata": {
      "needs_background": "light"
     },
     "output_type": "display_data"
    }
   ],
   "source": [
    "world_cases=df\n",
    "world_cases['date'] = world_cases['ObservationDate'].dt.date\n",
    "world_cases['date']=pd.to_datetime(world_cases['date'])\n",
    "world_cases = world_cases[world_cases['date'] > pd.Timestamp(date(2020,1,21))]\n",
    "num_plot= world_cases.groupby('date')[\"Confirmed\", \"Recovered\", \"Deaths\"].sum()\n",
    "num_plot.plot(figsize=(10,8),colormap='winter',title='Per Day statistics for world',marker='o')\n",
    "num_plot_world=num_plot.reset_index()"
   ]
  },
  {
   "cell_type": "code",
   "execution_count": 6,
   "metadata": {},
   "outputs": [
    {
     "data": {
      "text/plain": [
       "[Text(0, 0.5, 'Confirmed Cases'), Text(0.5, 0, 'Date')]"
      ]
     },
     "execution_count": 6,
     "metadata": {},
     "output_type": "execute_result"
    },
    {
     "data": {
      "image/png": "[encoded data removed]",
      "text/plain": [
       "<Figure size 720x576 with 1 Axes>"
      ]
     },
     "metadata": {
      "needs_background": "light"
     },
     "output_type": "display_data"
    }
   ],
   "source": [
    "#Current number of confirmed cases\n",
    "ax = num_plot_world['Confirmed'].plot(title=\"Confirmed Cases in world\",figsize=(10,8));\n",
    "ax.set(xlabel=\"Date\", ylabel=\"Confirmed Cases\")"
   ]
  },
  {
   "cell_type": "markdown",
   "metadata": {},
   "source": [
    "# Preduction for India"
   ]
  },
  {
   "cell_type": "code",
   "execution_count": 7,
   "metadata": {},
   "outputs": [
    {
     "name": "stderr",
     "output_type": "stream",
     "text": [
      "C:\\ProgramData\\Anaconda3\\lib\\site-packages\\ipykernel_launcher.py:2: SettingWithCopyWarning: \n",
      "A value is trying to be set on a copy of a slice from a DataFrame.\n",
      "Try using .loc[row_indexer,col_indexer] = value instead\n",
      "\n",
      "See the caveats in the documentation: http://pandas.pydata.org/pandas-docs/stable/indexing.html#indexing-view-versus-copy\n",
      "  \n",
      "C:\\ProgramData\\Anaconda3\\lib\\site-packages\\ipykernel_launcher.py:3: SettingWithCopyWarning: \n",
      "A value is trying to be set on a copy of a slice from a DataFrame.\n",
      "Try using .loc[row_indexer,col_indexer] = value instead\n",
      "\n",
      "See the caveats in the documentation: http://pandas.pydata.org/pandas-docs/stable/indexing.html#indexing-view-versus-copy\n",
      "  This is separate from the ipykernel package so we can avoid doing imports until\n"
     ]
    },
    {
     "data": {
      "image/png": "[encoded data removed]",
      "text/plain": [
       "<Figure size 576x576 with 1 Axes>"
      ]
     },
     "metadata": {
      "needs_background": "light"
     },
     "output_type": "display_data"
    }
   ],
   "source": [
    "india_cases_complete=df.loc[df['Country/Region']=='India']\n",
    "india_cases_complete['date'] = india_cases_complete['ObservationDate'].dt.date\n",
    "india_cases_complete['date']=pd.to_datetime(india_cases_complete['date'])\n",
    "india_cases_complete = india_cases_complete[india_cases_complete['date'] > pd.Timestamp(date(2020,1,21))]\n",
    "num_plot1= india_cases_complete.groupby('date')[\"Confirmed\", \"Recovered\", \"Deaths\"].sum()\n",
    "num_plot1.plot(figsize=(8,8),colormap='winter',title='Per Day statistics for India',marker='o')\n",
    "num_plot_india=num_plot1.reset_index()"
   ]
  },
  {
   "cell_type": "code",
   "execution_count": 8,
   "metadata": {
    "scrolled": false
   },
   "outputs": [
    {
     "data": {
      "image/png": "[encoded data removed]",
      "text/plain": [
       "<Figure size 720x576 with 1 Axes>"
      ]
     },
     "metadata": {
      "needs_background": "light"
     },
     "output_type": "display_data"
    }
   ],
   "source": [
    "#Current number of confirmed cases\n",
    "ax = num_plot_india['Confirmed'].plot(title=\"Confirmed Cases in India\",figsize=(10,8));\n",
    "ax.set(xlabel=\"Date\", ylabel=\"Confirmed Cases\");"
   ]
  },
  {
   "cell_type": "code",
   "execution_count": 9,
   "metadata": {},
   "outputs": [],
   "source": [
    "a=num_plot_world[['date','Confirmed']]"
   ]
  },
  {
   "cell_type": "code",
   "execution_count": 10,
   "metadata": {},
   "outputs": [],
   "source": [
    "a.set_index('date',inplace=True)"
   ]
  },
  {
   "cell_type": "code",
   "execution_count": 11,
   "metadata": {},
   "outputs": [
    {
     "data": {
      "text/html": [
       "<div>\n",
       "<style scoped>\n",
       "    .dataframe tbody tr th:only-of-type {\n",
       "        vertical-align: middle;\n",
       "    }\n",
       "\n",
       "    .dataframe tbody tr th {\n",
       "        vertical-align: top;\n",
       "    }\n",
       "\n",
       "    .dataframe thead th {\n",
       "        text-align: right;\n",
       "    }\n",
       "</style>\n",
       "<table border=\"1\" class=\"dataframe\">\n",
       "  <thead>\n",
       "    <tr style=\"text-align: right;\">\n",
       "      <th></th>\n",
       "      <th>Confirmed</th>\n",
       "    </tr>\n",
       "    <tr>\n",
       "      <th>date</th>\n",
       "      <th></th>\n",
       "    </tr>\n",
       "  </thead>\n",
       "  <tbody>\n",
       "    <tr>\n",
       "      <th>2020-01-22</th>\n",
       "      <td>555</td>\n",
       "    </tr>\n",
       "    <tr>\n",
       "      <th>2020-01-23</th>\n",
       "      <td>653</td>\n",
       "    </tr>\n",
       "    <tr>\n",
       "      <th>2020-01-24</th>\n",
       "      <td>941</td>\n",
       "    </tr>\n",
       "    <tr>\n",
       "      <th>2020-01-25</th>\n",
       "      <td>1438</td>\n",
       "    </tr>\n",
       "    <tr>\n",
       "      <th>2020-01-26</th>\n",
       "      <td>2118</td>\n",
       "    </tr>\n",
       "  </tbody>\n",
       "</table>\n",
       "</div>"
      ],
      "text/plain": [
       "            Confirmed\n",
       "date                 \n",
       "2020-01-22        555\n",
       "2020-01-23        653\n",
       "2020-01-24        941\n",
       "2020-01-25       1438\n",
       "2020-01-26       2118"
      ]
     },
     "execution_count": 11,
     "metadata": {},
     "output_type": "execute_result"
    }
   ],
   "source": [
    "a.head()"
   ]
  },
  {
   "cell_type": "code",
   "execution_count": 12,
   "metadata": {},
   "outputs": [
    {
     "data": {
      "text/plain": [
       "<matplotlib.axes._subplots.AxesSubplot at 0x245c9013278>"
      ]
     },
     "execution_count": 12,
     "metadata": {},
     "output_type": "execute_result"
    },
    {
     "data": {
      "image/png": "[encoded data removed]",
      "text/plain": [
       "<Figure size 432x288 with 1 Axes>"
      ]
     },
     "metadata": {
      "needs_background": "light"
     },
     "output_type": "display_data"
    }
   ],
   "source": [
    "a.plot()"
   ]
  },
  {
   "cell_type": "code",
   "execution_count": 13,
   "metadata": {},
   "outputs": [],
   "source": [
    "from statsmodels.tsa.stattools import adfuller"
   ]
  },
  {
   "cell_type": "code",
   "execution_count": 14,
   "metadata": {},
   "outputs": [],
   "source": [
    "test_result=adfuller(a['Confirmed'])"
   ]
  },
  {
   "cell_type": "code",
   "execution_count": 15,
   "metadata": {},
   "outputs": [],
   "source": [
    "def adfuller_test(confirmed):\n",
    "    result=adfuller(confirmed)\n",
    "    lables=['ADF Test Statstic','p-value','#lags used','no of observations used']\n",
    "    for value,lable in zip(result,lables):\n",
    "        print(lable+':'+str(value))\n",
    "    if result[1]<=0.05:\n",
    "        print('data is stationary')\n",
    "    else:\n",
    "        print('data is non stationary')"
   ]
  },
  {
   "cell_type": "code",
   "execution_count": 16,
   "metadata": {},
   "outputs": [
    {
     "name": "stdout",
     "output_type": "stream",
     "text": [
      "ADF Test Statstic:1.3816473043682713\n",
      "p-value:0.9970291527041599\n",
      "#lags used:12\n",
      "no of observations used:180\n",
      "data is non stationary\n"
     ]
    }
   ],
   "source": [
    "adfuller_test(a['Confirmed'])"
   ]
  },
  {
   "cell_type": "code",
   "execution_count": 17,
   "metadata": {},
   "outputs": [
    {
     "name": "stderr",
     "output_type": "stream",
     "text": [
      "C:\\ProgramData\\Anaconda3\\lib\\site-packages\\ipykernel_launcher.py:1: SettingWithCopyWarning: \n",
      "A value is trying to be set on a copy of a slice from a DataFrame.\n",
      "Try using .loc[row_indexer,col_indexer] = value instead\n",
      "\n",
      "See the caveats in the documentation: http://pandas.pydata.org/pandas-docs/stable/indexing.html#indexing-view-versus-copy\n",
      "  \"\"\"Entry point for launching an IPython kernel.\n"
     ]
    }
   ],
   "source": [
    "a['first diff']=a['Confirmed']-a['Confirmed'].shift(57)"
   ]
  },
  {
   "cell_type": "code",
   "execution_count": 18,
   "metadata": {},
   "outputs": [],
   "source": [
    "#a.head()"
   ]
  },
  {
   "cell_type": "code",
   "execution_count": 19,
   "metadata": {},
   "outputs": [
    {
     "name": "stdout",
     "output_type": "stream",
     "text": [
      "ADF Test Statstic:1.323050163500631\n",
      "p-value:0.9967349278872828\n",
      "#lags used:12\n",
      "no of observations used:123\n",
      "data is non stationary\n"
     ]
    }
   ],
   "source": [
    "adfuller_test(a['first diff'].dropna())"
   ]
  },
  {
   "cell_type": "code",
   "execution_count": 20,
   "metadata": {},
   "outputs": [
    {
     "data": {
      "text/plain": [
       "<matplotlib.axes._subplots.AxesSubplot at 0x245c7a36748>"
      ]
     },
     "execution_count": 20,
     "metadata": {},
     "output_type": "execute_result"
    },
    {
     "data": {
      "image/png": "[encoded data removed]",
      "text/plain": [
       "<Figure size 432x288 with 1 Axes>"
      ]
     },
     "metadata": {
      "needs_background": "light"
     },
     "output_type": "display_data"
    }
   ],
   "source": [
    "a['first diff'].plot()"
   ]
  },
  {
   "cell_type": "code",
   "execution_count": 21,
   "metadata": {},
   "outputs": [],
   "source": [
    "from statsmodels.graphics.tsaplots import plot_acf,plot_pacf"
   ]
  },
  {
   "cell_type": "code",
   "execution_count": 22,
   "metadata": {},
   "outputs": [
    {
     "data": {
      "image/png": "[encoded data removed]",
      "text/plain": [
       "<Figure size 864x576 with 2 Axes>"
      ]
     },
     "metadata": {
      "needs_background": "light"
     },
     "output_type": "display_data"
    }
   ],
   "source": [
    "fig=plt.figure(figsize=(12,8))\n",
    "ax1=fig.add_subplot(211)\n",
    "fig=plot_acf(a['first diff'].iloc[57:],lags=40,ax=ax1)\n",
    "ax2=fig.add_subplot(212)\n",
    "fig=plot_pacf(a['first diff'].iloc[57:],lags=40,ax=ax2)"
   ]
  },
  {
   "cell_type": "markdown",
   "metadata": {},
   "source": [
    "# Arima Model prediction (Worldwide)"
   ]
  },
  {
   "cell_type": "code",
   "execution_count": 23,
   "metadata": {},
   "outputs": [],
   "source": [
    "train1= num_plot_world.iloc[:-5,:2]\n",
    "test1= num_plot_world.iloc[-5:,:2]"
   ]
  },
  {
   "cell_type": "code",
   "execution_count": 24,
   "metadata": {},
   "outputs": [],
   "source": [
    "train1.rename(columns={\"date\":\"ds1\",\"Confirmed\":\"y1\"},inplace=True)\n",
    "test1.rename(columns={\"date\":\"ds1\",\"Confirmed\":\"y1\"},inplace=True)\n",
    "test1= test1.set_index(\"ds1\")\n",
    "test1= test1['y1']"
   ]
  },
  {
   "cell_type": "code",
   "execution_count": 25,
   "metadata": {},
   "outputs": [
    {
     "data": {
      "text/plain": [
       "[<matplotlib.lines.Line2D at 0x245c8ec3e80>]"
      ]
     },
     "execution_count": 25,
     "metadata": {},
     "output_type": "execute_result"
    },
    {
     "data": {
      "image/png": "[encoded data removed]",
      "text/plain": [
       "<Figure size 1440x720 with 1 Axes>"
      ]
     },
     "metadata": {
      "needs_background": "light"
     },
     "output_type": "display_data"
    }
   ],
   "source": [
    "arima = ARIMA(train1['y1'], order=(7, 2, 0))\n",
    "arima = arima.fit(trend='nc', full_output=True, disp=True)\n",
    "forecast = arima.forecast(steps= 15)\n",
    "pred = list(forecast[0])\n",
    "start_date = train1['ds1'].max()\n",
    "prediction_dates = []\n",
    "for i in range(15):\n",
    "    date = start_date + datetime.timedelta(days=1)\n",
    "    prediction_dates.append(date)\n",
    "    start_date = date\n",
    "plt.figure(figsize= (20,10))\n",
    "plt.xlabel(\"Dates\",fontsize = 10)\n",
    "plt.ylabel('Total cases',fontsize = 10)\n",
    "plt.title(\"Predicted Values for the next 10 Days\" , fontsize = 20)\n",
    "\n",
    "plt.plot_date(y= pred,x= prediction_dates,linestyle ='dashed',color = 'blue',label = 'Predicted')\n",
    "plt.plot_date(y=train1['y1'].tail(15),x=train1['ds1'].tail(15),linestyle = '-',color = 'orange',label = 'Actual')"
   ]
  },
  {
   "cell_type": "code",
   "execution_count": 26,
   "metadata": {},
   "outputs": [],
   "source": [
    "pred=pd.DataFrame(forecast[0],columns=['Predicted'])\n",
    "dates=pd.DataFrame(prediction_dates,columns=['Date'])\n",
    "arima_df=pd.merge(dates,pred,right_index=True,left_index=True)"
   ]
  },
  {
   "cell_type": "code",
   "execution_count": 27,
   "metadata": {},
   "outputs": [],
   "source": [
    "arima_df['Predicted']=arima_df['Predicted'].astype(int)"
   ]
  },
  {
   "cell_type": "code",
   "execution_count": 28,
   "metadata": {},
   "outputs": [
    {
     "data": {
      "text/html": [
       "<div>\n",
       "<style scoped>\n",
       "    .dataframe tbody tr th:only-of-type {\n",
       "        vertical-align: middle;\n",
       "    }\n",
       "\n",
       "    .dataframe tbody tr th {\n",
       "        vertical-align: top;\n",
       "    }\n",
       "\n",
       "    .dataframe thead th {\n",
       "        text-align: right;\n",
       "    }\n",
       "</style>\n",
       "<table border=\"1\" class=\"dataframe\">\n",
       "  <thead>\n",
       "    <tr style=\"text-align: right;\">\n",
       "      <th></th>\n",
       "      <th>Date</th>\n",
       "      <th>Predicted</th>\n",
       "    </tr>\n",
       "  </thead>\n",
       "  <tbody>\n",
       "    <tr>\n",
       "      <th>5</th>\n",
       "      <td>2020-08-02</td>\n",
       "      <td>18037466</td>\n",
       "    </tr>\n",
       "    <tr>\n",
       "      <th>6</th>\n",
       "      <td>2020-08-03</td>\n",
       "      <td>18279693</td>\n",
       "    </tr>\n",
       "    <tr>\n",
       "      <th>7</th>\n",
       "      <td>2020-08-04</td>\n",
       "      <td>18539334</td>\n",
       "    </tr>\n",
       "    <tr>\n",
       "      <th>8</th>\n",
       "      <td>2020-08-05</td>\n",
       "      <td>18814280</td>\n",
       "    </tr>\n",
       "    <tr>\n",
       "      <th>9</th>\n",
       "      <td>2020-08-06</td>\n",
       "      <td>19088759</td>\n",
       "    </tr>\n",
       "    <tr>\n",
       "      <th>10</th>\n",
       "      <td>2020-08-07</td>\n",
       "      <td>19344970</td>\n",
       "    </tr>\n",
       "    <tr>\n",
       "      <th>11</th>\n",
       "      <td>2020-08-08</td>\n",
       "      <td>19584790</td>\n",
       "    </tr>\n",
       "    <tr>\n",
       "      <th>12</th>\n",
       "      <td>2020-08-09</td>\n",
       "      <td>19823879</td>\n",
       "    </tr>\n",
       "    <tr>\n",
       "      <th>13</th>\n",
       "      <td>2020-08-10</td>\n",
       "      <td>20072364</td>\n",
       "    </tr>\n",
       "    <tr>\n",
       "      <th>14</th>\n",
       "      <td>2020-08-11</td>\n",
       "      <td>20335709</td>\n",
       "    </tr>\n",
       "  </tbody>\n",
       "</table>\n",
       "</div>"
      ],
      "text/plain": [
       "         Date  Predicted\n",
       "5  2020-08-02   18037466\n",
       "6  2020-08-03   18279693\n",
       "7  2020-08-04   18539334\n",
       "8  2020-08-05   18814280\n",
       "9  2020-08-06   19088759\n",
       "10 2020-08-07   19344970\n",
       "11 2020-08-08   19584790\n",
       "12 2020-08-09   19823879\n",
       "13 2020-08-10   20072364\n",
       "14 2020-08-11   20335709"
      ]
     },
     "execution_count": 28,
     "metadata": {},
     "output_type": "execute_result"
    }
   ],
   "source": [
    "arima_df.tail(10)"
   ]
  },
  {
   "cell_type": "code",
   "execution_count": 29,
   "metadata": {},
   "outputs": [
    {
     "data": {
      "text/html": [
       "<table class=\"simpletable\">\n",
       "<caption>ARIMA Model Results</caption>\n",
       "<tr>\n",
       "  <th>Dep. Variable:</th>       <td>D2.y1</td>      <th>  No. Observations:  </th>    <td>186</td>   \n",
       "</tr>\n",
       "<tr>\n",
       "  <th>Model:</th>          <td>ARIMA(7, 2, 0)</td>  <th>  Log Likelihood     </th> <td>-2002.213</td>\n",
       "</tr>\n",
       "<tr>\n",
       "  <th>Method:</th>             <td>css-mle</td>     <th>  S.D. of innovations</th> <td>11375.562</td>\n",
       "</tr>\n",
       "<tr>\n",
       "  <th>Date:</th>          <td>Thu, 18 May 2023</td> <th>  AIC                </th> <td>4020.426</td> \n",
       "</tr>\n",
       "<tr>\n",
       "  <th>Time:</th>              <td>16:42:48</td>     <th>  BIC                </th> <td>4046.231</td> \n",
       "</tr>\n",
       "<tr>\n",
       "  <th>Sample:</th>                <td>2</td>        <th>  HQIC               </th> <td>4030.883</td> \n",
       "</tr>\n",
       "<tr>\n",
       "  <th></th>                       <td> </td>        <th>                     </th>     <td> </td>    \n",
       "</tr>\n",
       "</table>\n",
       "<table class=\"simpletable\">\n",
       "<tr>\n",
       "       <td></td>          <th>coef</th>     <th>std err</th>      <th>z</th>      <th>P>|z|</th>  <th>[0.025</th>    <th>0.975]</th>  \n",
       "</tr>\n",
       "<tr>\n",
       "  <th>ar.L1.D2.y1</th> <td>   -0.4513</td> <td>    0.071</td> <td>   -6.348</td> <td> 0.000</td> <td>   -0.591</td> <td>   -0.312</td>\n",
       "</tr>\n",
       "<tr>\n",
       "  <th>ar.L2.D2.y1</th> <td>   -0.1124</td> <td>    0.079</td> <td>   -1.431</td> <td> 0.154</td> <td>   -0.266</td> <td>    0.042</td>\n",
       "</tr>\n",
       "<tr>\n",
       "  <th>ar.L3.D2.y1</th> <td>   -0.3025</td> <td>    0.075</td> <td>   -4.012</td> <td> 0.000</td> <td>   -0.450</td> <td>   -0.155</td>\n",
       "</tr>\n",
       "<tr>\n",
       "  <th>ar.L4.D2.y1</th> <td>   -0.3628</td> <td>    0.076</td> <td>   -4.778</td> <td> 0.000</td> <td>   -0.512</td> <td>   -0.214</td>\n",
       "</tr>\n",
       "<tr>\n",
       "  <th>ar.L5.D2.y1</th> <td>   -0.3096</td> <td>    0.079</td> <td>   -3.943</td> <td> 0.000</td> <td>   -0.463</td> <td>   -0.156</td>\n",
       "</tr>\n",
       "<tr>\n",
       "  <th>ar.L6.D2.y1</th> <td>    0.1823</td> <td>    0.083</td> <td>    2.190</td> <td> 0.030</td> <td>    0.019</td> <td>    0.346</td>\n",
       "</tr>\n",
       "<tr>\n",
       "  <th>ar.L7.D2.y1</th> <td>    0.2583</td> <td>    0.076</td> <td>    3.396</td> <td> 0.001</td> <td>    0.109</td> <td>    0.407</td>\n",
       "</tr>\n",
       "</table>\n",
       "<table class=\"simpletable\">\n",
       "<caption>Roots</caption>\n",
       "<tr>\n",
       "    <td></td>   <th>            Real</th>  <th>         Imaginary</th> <th>         Modulus</th>  <th>        Frequency</th>\n",
       "</tr>\n",
       "<tr>\n",
       "  <th>AR.1</th> <td>           0.6195</td> <td>          -0.8483j</td> <td>           1.0504</td> <td>          -0.1496</td>\n",
       "</tr>\n",
       "<tr>\n",
       "  <th>AR.2</th> <td>           0.6195</td> <td>          +0.8483j</td> <td>           1.0504</td> <td>           0.1496</td>\n",
       "</tr>\n",
       "<tr>\n",
       "  <th>AR.3</th> <td>           1.5430</td> <td>          -0.0000j</td> <td>           1.5430</td> <td>          -0.0000</td>\n",
       "</tr>\n",
       "<tr>\n",
       "  <th>AR.4</th> <td>          -0.4902</td> <td>          -1.0597j</td> <td>           1.1675</td> <td>          -0.3190</td>\n",
       "</tr>\n",
       "<tr>\n",
       "  <th>AR.5</th> <td>          -0.4902</td> <td>          +1.0597j</td> <td>           1.1675</td> <td>           0.3190</td>\n",
       "</tr>\n",
       "<tr>\n",
       "  <th>AR.6</th> <td>          -1.2538</td> <td>          -0.3102j</td> <td>           1.2916</td> <td>          -0.4614</td>\n",
       "</tr>\n",
       "<tr>\n",
       "  <th>AR.7</th> <td>          -1.2538</td> <td>          +0.3102j</td> <td>           1.2916</td> <td>           0.4614</td>\n",
       "</tr>\n",
       "</table>"
      ],
      "text/plain": [
       "<class 'statsmodels.iolib.summary.Summary'>\n",
       "\"\"\"\n",
       "                             ARIMA Model Results                              \n",
       "==============================================================================\n",
       "Dep. Variable:                  D2.y1   No. Observations:                  186\n",
       "Model:                 ARIMA(7, 2, 0)   Log Likelihood               -2002.213\n",
       "Method:                       css-mle   S.D. of innovations          11375.562\n",
       "Date:                Thu, 18 May 2023   AIC                           4020.426\n",
       "Time:                        16:42:48   BIC                           4046.231\n",
       "Sample:                             2   HQIC                          4030.883\n",
       "                                                                              \n",
       "===============================================================================\n",
       "                  coef    std err          z      P>|z|      [0.025      0.975]\n",
       "-------------------------------------------------------------------------------\n",
       "ar.L1.D2.y1    -0.4513      0.071     -6.348      0.000      -0.591      -0.312\n",
       "ar.L2.D2.y1    -0.1124      0.079     -1.431      0.154      -0.266       0.042\n",
       "ar.L3.D2.y1    -0.3025      0.075     -4.012      0.000      -0.450      -0.155\n",
       "ar.L4.D2.y1    -0.3628      0.076     -4.778      0.000      -0.512      -0.214\n",
       "ar.L5.D2.y1    -0.3096      0.079     -3.943      0.000      -0.463      -0.156\n",
       "ar.L6.D2.y1     0.1823      0.083      2.190      0.030       0.019       0.346\n",
       "ar.L7.D2.y1     0.2583      0.076      3.396      0.001       0.109       0.407\n",
       "                                    Roots                                    \n",
       "=============================================================================\n",
       "                  Real          Imaginary           Modulus         Frequency\n",
       "-----------------------------------------------------------------------------\n",
       "AR.1            0.6195           -0.8483j            1.0504           -0.1496\n",
       "AR.2            0.6195           +0.8483j            1.0504            0.1496\n",
       "AR.3            1.5430           -0.0000j            1.5430           -0.0000\n",
       "AR.4           -0.4902           -1.0597j            1.1675           -0.3190\n",
       "AR.5           -0.4902           +1.0597j            1.1675            0.3190\n",
       "AR.6           -1.2538           -0.3102j            1.2916           -0.4614\n",
       "AR.7           -1.2538           +0.3102j            1.2916            0.4614\n",
       "-----------------------------------------------------------------------------\n",
       "\"\"\""
      ]
     },
     "execution_count": 29,
     "metadata": {},
     "output_type": "execute_result"
    }
   ],
   "source": [
    "arima.summary()"
   ]
  },
  {
   "cell_type": "markdown",
   "metadata": {},
   "source": [
    "# Arima Model prediction (India)"
   ]
  },
  {
   "cell_type": "code",
   "execution_count": 30,
   "metadata": {},
   "outputs": [],
   "source": [
    "train = num_plot_india.iloc[:-5,:2]\n",
    "test = num_plot_india.iloc[-5:,:2]"
   ]
  },
  {
   "cell_type": "code",
   "execution_count": 31,
   "metadata": {},
   "outputs": [],
   "source": [
    "train.rename(columns={\"date\":\"ds\",\"Confirmed\":\"y\"},inplace=True)\n",
    "test.rename(columns={\"date\":\"ds\",\"Confirmed\":\"y\"},inplace=True)\n",
    "test = test.set_index(\"ds\")\n",
    "test = test['y']"
   ]
  },
  {
   "cell_type": "code",
   "execution_count": 32,
   "metadata": {},
   "outputs": [
    {
     "data": {
      "text/plain": [
       "[<matplotlib.lines.Line2D at 0x245c924e358>]"
      ]
     },
     "execution_count": 32,
     "metadata": {},
     "output_type": "execute_result"
    },
    {
     "data": {
      "image/png": "[encoded data removed]",
      "text/plain": [
       "<Figure size 1440x720 with 1 Axes>"
      ]
     },
     "metadata": {
      "needs_background": "light"
     },
     "output_type": "display_data"
    }
   ],
   "source": [
    "arima = ARIMA(train['y'], order=(7, 2, 0))\n",
    "arimaind = arima.fit(trend='nc', full_output=True, disp=True)\n",
    "forecast = arimaind.forecast(steps= 15)\n",
    "pred = list(forecast[0])\n",
    "start_date = train['ds'].max()\n",
    "prediction_dates = []\n",
    "for i in range(15):\n",
    "    date = start_date + datetime.timedelta(days=1)\n",
    "    prediction_dates.append(date)\n",
    "    start_date = date\n",
    "plt.figure(figsize= (20,10))\n",
    "plt.xlabel(\"Dates\",fontsize = 10)\n",
    "plt.ylabel('Total cases',fontsize = 10)\n",
    "plt.title(\"Predicted Values for the next 10 Days\" , fontsize = 20)\n",
    "\n",
    "plt.plot_date(y= pred,x= prediction_dates,linestyle ='dashed',color = 'blue',label = 'Predicted')\n",
    "plt.plot_date(y=train['y'].tail(15),x=train['ds'].tail(15),linestyle = '-',color = 'orange',label = 'Actual')"
   ]
  },
  {
   "cell_type": "code",
   "execution_count": 33,
   "metadata": {},
   "outputs": [],
   "source": [
    "pred1=pd.DataFrame(forecast[0],columns=['Predicted for india'])\n",
    "dates1=pd.DataFrame(prediction_dates,columns=['Date'])\n",
    "arima_df1=pd.merge(dates1,pred1,right_index=True,left_index=True)\n"
   ]
  },
  {
   "cell_type": "code",
   "execution_count": 34,
   "metadata": {},
   "outputs": [],
   "source": [
    "arima_df1['Predicted for india']=arima_df1['Predicted for india'].astype(int)"
   ]
  },
  {
   "cell_type": "code",
   "execution_count": 35,
   "metadata": {},
   "outputs": [
    {
     "data": {
      "text/html": [
       "<div>\n",
       "<style scoped>\n",
       "    .dataframe tbody tr th:only-of-type {\n",
       "        vertical-align: middle;\n",
       "    }\n",
       "\n",
       "    .dataframe tbody tr th {\n",
       "        vertical-align: top;\n",
       "    }\n",
       "\n",
       "    .dataframe thead th {\n",
       "        text-align: right;\n",
       "    }\n",
       "</style>\n",
       "<table border=\"1\" class=\"dataframe\">\n",
       "  <thead>\n",
       "    <tr style=\"text-align: right;\">\n",
       "      <th></th>\n",
       "      <th>Date</th>\n",
       "      <th>Predicted for india</th>\n",
       "    </tr>\n",
       "  </thead>\n",
       "  <tbody>\n",
       "    <tr>\n",
       "      <th>5</th>\n",
       "      <td>2020-08-02</td>\n",
       "      <td>1778123</td>\n",
       "    </tr>\n",
       "    <tr>\n",
       "      <th>6</th>\n",
       "      <td>2020-08-03</td>\n",
       "      <td>1827868</td>\n",
       "    </tr>\n",
       "    <tr>\n",
       "      <th>7</th>\n",
       "      <td>2020-08-04</td>\n",
       "      <td>1878052</td>\n",
       "    </tr>\n",
       "    <tr>\n",
       "      <th>8</th>\n",
       "      <td>2020-08-05</td>\n",
       "      <td>1928216</td>\n",
       "    </tr>\n",
       "    <tr>\n",
       "      <th>9</th>\n",
       "      <td>2020-08-06</td>\n",
       "      <td>1978262</td>\n",
       "    </tr>\n",
       "    <tr>\n",
       "      <th>10</th>\n",
       "      <td>2020-08-07</td>\n",
       "      <td>2027957</td>\n",
       "    </tr>\n",
       "    <tr>\n",
       "      <th>11</th>\n",
       "      <td>2020-08-08</td>\n",
       "      <td>2078531</td>\n",
       "    </tr>\n",
       "    <tr>\n",
       "      <th>12</th>\n",
       "      <td>2020-08-09</td>\n",
       "      <td>2128475</td>\n",
       "    </tr>\n",
       "    <tr>\n",
       "      <th>13</th>\n",
       "      <td>2020-08-10</td>\n",
       "      <td>2178875</td>\n",
       "    </tr>\n",
       "    <tr>\n",
       "      <th>14</th>\n",
       "      <td>2020-08-11</td>\n",
       "      <td>2228963</td>\n",
       "    </tr>\n",
       "  </tbody>\n",
       "</table>\n",
       "</div>"
      ],
      "text/plain": [
       "         Date  Predicted for india\n",
       "5  2020-08-02              1778123\n",
       "6  2020-08-03              1827868\n",
       "7  2020-08-04              1878052\n",
       "8  2020-08-05              1928216\n",
       "9  2020-08-06              1978262\n",
       "10 2020-08-07              2027957\n",
       "11 2020-08-08              2078531\n",
       "12 2020-08-09              2128475\n",
       "13 2020-08-10              2178875\n",
       "14 2020-08-11              2228963"
      ]
     },
     "execution_count": 35,
     "metadata": {},
     "output_type": "execute_result"
    }
   ],
   "source": [
    "arima_df1.tail(10)"
   ]
  },
  {
   "cell_type": "code",
   "execution_count": 36,
   "metadata": {},
   "outputs": [
    {
     "data": {
      "text/html": [
       "<table class=\"simpletable\">\n",
       "<caption>ARIMA Model Results</caption>\n",
       "<tr>\n",
       "  <th>Dep. Variable:</th>       <td>D2.y</td>       <th>  No. Observations:  </th>    <td>178</td>   \n",
       "</tr>\n",
       "<tr>\n",
       "  <th>Model:</th>          <td>ARIMA(7, 2, 0)</td>  <th>  Log Likelihood     </th> <td>-1616.065</td>\n",
       "</tr>\n",
       "<tr>\n",
       "  <th>Method:</th>             <td>css-mle</td>     <th>  S.D. of innovations</th> <td>2114.123</td> \n",
       "</tr>\n",
       "<tr>\n",
       "  <th>Date:</th>          <td>Thu, 18 May 2023</td> <th>  AIC                </th> <td>3248.129</td> \n",
       "</tr>\n",
       "<tr>\n",
       "  <th>Time:</th>              <td>16:42:52</td>     <th>  BIC                </th> <td>3273.584</td> \n",
       "</tr>\n",
       "<tr>\n",
       "  <th>Sample:</th>                <td>2</td>        <th>  HQIC               </th> <td>3258.452</td> \n",
       "</tr>\n",
       "<tr>\n",
       "  <th></th>                       <td> </td>        <th>                     </th>     <td> </td>    \n",
       "</tr>\n",
       "</table>\n",
       "<table class=\"simpletable\">\n",
       "<tr>\n",
       "       <td></td>         <th>coef</th>     <th>std err</th>      <th>z</th>      <th>P>|z|</th>  <th>[0.025</th>    <th>0.975]</th>  \n",
       "</tr>\n",
       "<tr>\n",
       "  <th>ar.L1.D2.y</th> <td>   -0.6709</td> <td>    0.075</td> <td>   -8.940</td> <td> 0.000</td> <td>   -0.818</td> <td>   -0.524</td>\n",
       "</tr>\n",
       "<tr>\n",
       "  <th>ar.L2.D2.y</th> <td>   -0.1695</td> <td>    0.091</td> <td>   -1.869</td> <td> 0.063</td> <td>   -0.347</td> <td>    0.008</td>\n",
       "</tr>\n",
       "<tr>\n",
       "  <th>ar.L3.D2.y</th> <td>   -0.1224</td> <td>    0.089</td> <td>   -1.382</td> <td> 0.169</td> <td>   -0.296</td> <td>    0.051</td>\n",
       "</tr>\n",
       "<tr>\n",
       "  <th>ar.L4.D2.y</th> <td>    0.2652</td> <td>    0.086</td> <td>    3.099</td> <td> 0.002</td> <td>    0.097</td> <td>    0.433</td>\n",
       "</tr>\n",
       "<tr>\n",
       "  <th>ar.L5.D2.y</th> <td>    0.1786</td> <td>    0.094</td> <td>    1.892</td> <td> 0.060</td> <td>   -0.006</td> <td>    0.364</td>\n",
       "</tr>\n",
       "<tr>\n",
       "  <th>ar.L6.D2.y</th> <td>    0.1716</td> <td>    0.104</td> <td>    1.654</td> <td> 0.100</td> <td>   -0.032</td> <td>    0.375</td>\n",
       "</tr>\n",
       "<tr>\n",
       "  <th>ar.L7.D2.y</th> <td>    0.2554</td> <td>    0.082</td> <td>    3.119</td> <td> 0.002</td> <td>    0.095</td> <td>    0.416</td>\n",
       "</tr>\n",
       "</table>\n",
       "<table class=\"simpletable\">\n",
       "<caption>Roots</caption>\n",
       "<tr>\n",
       "    <td></td>   <th>            Real</th>  <th>         Imaginary</th> <th>         Modulus</th>  <th>        Frequency</th>\n",
       "</tr>\n",
       "<tr>\n",
       "  <th>AR.1</th> <td>           1.1832</td> <td>          -0.0000j</td> <td>           1.1832</td> <td>          -0.0000</td>\n",
       "</tr>\n",
       "<tr>\n",
       "  <th>AR.2</th> <td>          -1.1156</td> <td>          -0.2953j</td> <td>           1.1540</td> <td>          -0.4588</td>\n",
       "</tr>\n",
       "<tr>\n",
       "  <th>AR.3</th> <td>          -1.1156</td> <td>          +0.2953j</td> <td>           1.1540</td> <td>           0.4588</td>\n",
       "</tr>\n",
       "<tr>\n",
       "  <th>AR.4</th> <td>          -0.3513</td> <td>          -1.1597j</td> <td>           1.2118</td> <td>          -0.2968</td>\n",
       "</tr>\n",
       "<tr>\n",
       "  <th>AR.5</th> <td>          -0.3513</td> <td>          +1.1597j</td> <td>           1.2118</td> <td>           0.2968</td>\n",
       "</tr>\n",
       "<tr>\n",
       "  <th>AR.6</th> <td>           0.5396</td> <td>          -1.1835j</td> <td>           1.3007</td> <td>          -0.1819</td>\n",
       "</tr>\n",
       "<tr>\n",
       "  <th>AR.7</th> <td>           0.5396</td> <td>          +1.1835j</td> <td>           1.3007</td> <td>           0.1819</td>\n",
       "</tr>\n",
       "</table>"
      ],
      "text/plain": [
       "<class 'statsmodels.iolib.summary.Summary'>\n",
       "\"\"\"\n",
       "                             ARIMA Model Results                              \n",
       "==============================================================================\n",
       "Dep. Variable:                   D2.y   No. Observations:                  178\n",
       "Model:                 ARIMA(7, 2, 0)   Log Likelihood               -1616.065\n",
       "Method:                       css-mle   S.D. of innovations           2114.123\n",
       "Date:                Thu, 18 May 2023   AIC                           3248.129\n",
       "Time:                        16:42:52   BIC                           3273.584\n",
       "Sample:                             2   HQIC                          3258.452\n",
       "                                                                              \n",
       "==============================================================================\n",
       "                 coef    std err          z      P>|z|      [0.025      0.975]\n",
       "------------------------------------------------------------------------------\n",
       "ar.L1.D2.y    -0.6709      0.075     -8.940      0.000      -0.818      -0.524\n",
       "ar.L2.D2.y    -0.1695      0.091     -1.869      0.063      -0.347       0.008\n",
       "ar.L3.D2.y    -0.1224      0.089     -1.382      0.169      -0.296       0.051\n",
       "ar.L4.D2.y     0.2652      0.086      3.099      0.002       0.097       0.433\n",
       "ar.L5.D2.y     0.1786      0.094      1.892      0.060      -0.006       0.364\n",
       "ar.L6.D2.y     0.1716      0.104      1.654      0.100      -0.032       0.375\n",
       "ar.L7.D2.y     0.2554      0.082      3.119      0.002       0.095       0.416\n",
       "                                    Roots                                    \n",
       "=============================================================================\n",
       "                  Real          Imaginary           Modulus         Frequency\n",
       "-----------------------------------------------------------------------------\n",
       "AR.1            1.1832           -0.0000j            1.1832           -0.0000\n",
       "AR.2           -1.1156           -0.2953j            1.1540           -0.4588\n",
       "AR.3           -1.1156           +0.2953j            1.1540            0.4588\n",
       "AR.4           -0.3513           -1.1597j            1.2118           -0.2968\n",
       "AR.5           -0.3513           +1.1597j            1.2118            0.2968\n",
       "AR.6            0.5396           -1.1835j            1.3007           -0.1819\n",
       "AR.7            0.5396           +1.1835j            1.3007            0.1819\n",
       "-----------------------------------------------------------------------------\n",
       "\"\"\""
      ]
     },
     "execution_count": 36,
     "metadata": {},
     "output_type": "execute_result"
    }
   ],
   "source": [
    "arimaind.summary()"
   ]
  },
  {
   "cell_type": "code",
   "execution_count": null,
   "metadata": {},
   "outputs": [],
   "source": []
  },
  {
   "cell_type": "code",
   "execution_count": 37,
   "metadata": {},
   "outputs": [],
   "source": [
    "test=test.reset_index()"
   ]
  },
  {
   "cell_type": "code",
   "execution_count": 38,
   "metadata": {},
   "outputs": [],
   "source": [
    "df1=pd.DataFrame(forecast[0],columns=['yhat'])\n",
    "df2=pd.DataFrame(prediction_dates,columns=['ds'])\n",
    "df3=test['y']\n",
    "df4=pd.merge(df2,df3,right_index=True,left_index=True)\n",
    "df5=pd.merge(df4,df1,right_index=True,left_index=True)"
   ]
  },
  {
   "cell_type": "code",
   "execution_count": 39,
   "metadata": {},
   "outputs": [],
   "source": [
    "df5['mse'],df5['rmse'],df5['mae'],df5['mape'],df5['mdape']=[0,0,0,0,0]"
   ]
  },
  {
   "cell_type": "code",
   "execution_count": 40,
   "metadata": {},
   "outputs": [
    {
     "name": "stderr",
     "output_type": "stream",
     "text": [
      "C:\\ProgramData\\Anaconda3\\lib\\site-packages\\ipykernel_launcher.py:3: SettingWithCopyWarning: \n",
      "A value is trying to be set on a copy of a slice from a DataFrame\n",
      "\n",
      "See the caveats in the documentation: http://pandas.pydata.org/pandas-docs/stable/indexing.html#indexing-view-versus-copy\n",
      "  This is separate from the ipykernel package so we can avoid doing imports until\n",
      "C:\\ProgramData\\Anaconda3\\lib\\site-packages\\pandas\\core\\indexing.py:190: SettingWithCopyWarning: \n",
      "A value is trying to be set on a copy of a slice from a DataFrame\n",
      "\n",
      "See the caveats in the documentation: http://pandas.pydata.org/pandas-docs/stable/indexing.html#indexing-view-versus-copy\n",
      "  self._setitem_with_indexer(indexer, value)\n",
      "C:\\ProgramData\\Anaconda3\\lib\\site-packages\\ipykernel_launcher.py:5: SettingWithCopyWarning: \n",
      "A value is trying to be set on a copy of a slice from a DataFrame\n",
      "\n",
      "See the caveats in the documentation: http://pandas.pydata.org/pandas-docs/stable/indexing.html#indexing-view-versus-copy\n",
      "  \"\"\"\n",
      "C:\\ProgramData\\Anaconda3\\lib\\site-packages\\ipykernel_launcher.py:7: SettingWithCopyWarning: \n",
      "A value is trying to be set on a copy of a slice from a DataFrame\n",
      "\n",
      "See the caveats in the documentation: http://pandas.pydata.org/pandas-docs/stable/indexing.html#indexing-view-versus-copy\n",
      "  import sys\n",
      "C:\\ProgramData\\Anaconda3\\lib\\site-packages\\ipykernel_launcher.py:9: SettingWithCopyWarning: \n",
      "A value is trying to be set on a copy of a slice from a DataFrame\n",
      "\n",
      "See the caveats in the documentation: http://pandas.pydata.org/pandas-docs/stable/indexing.html#indexing-view-versus-copy\n",
      "  if __name__ == '__main__':\n",
      "C:\\ProgramData\\Anaconda3\\lib\\site-packages\\ipykernel_launcher.py:11: SettingWithCopyWarning: \n",
      "A value is trying to be set on a copy of a slice from a DataFrame\n",
      "\n",
      "See the caveats in the documentation: http://pandas.pydata.org/pandas-docs/stable/indexing.html#indexing-view-versus-copy\n",
      "  # This is added back by InteractiveShellApp.init_path()\n"
     ]
    }
   ],
   "source": [
    "for t in range(len(test)):\n",
    "    mape =  np.mean(np.abs(df5['yhat'][t] - df5['y'][t])/np.abs(df5['y'][t]))\n",
    "    df5['mape'][t]=\"{:.5f}\".format(mape)\n",
    "    mdape =  np.median(np.abs(df5['yhat'][t] - df5['y'][t])/np.abs(df5['y'][t]))\n",
    "    df5['mdape'][t]=\"{:.5f}\".format(mdape)\n",
    "    mae = np.mean(np.abs(df5['yhat'][t] - df5['y'][t]))\n",
    "    df5['mae'][t]=mae\n",
    "    mse = np.mean((df5['yhat'][t] - df5['y'][t])**2)\n",
    "    df5['mse'][t]=mse\n",
    "    rmse = np.mean((df5['yhat'][t] - df5['y'][t])**2)**.5\n",
    "    df5['rmse'][t]=rmse"
   ]
  },
  {
   "cell_type": "code",
   "execution_count": 41,
   "metadata": {},
   "outputs": [
    {
     "data": {
      "text/html": [
       "<div>\n",
       "<style scoped>\n",
       "    .dataframe tbody tr th:only-of-type {\n",
       "        vertical-align: middle;\n",
       "    }\n",
       "\n",
       "    .dataframe tbody tr th {\n",
       "        vertical-align: top;\n",
       "    }\n",
       "\n",
       "    .dataframe thead th {\n",
       "        text-align: right;\n",
       "    }\n",
       "</style>\n",
       "<table border=\"1\" class=\"dataframe\">\n",
       "  <thead>\n",
       "    <tr style=\"text-align: right;\">\n",
       "      <th></th>\n",
       "      <th>ds</th>\n",
       "      <th>y</th>\n",
       "      <th>yhat</th>\n",
       "      <th>mse</th>\n",
       "      <th>rmse</th>\n",
       "      <th>mae</th>\n",
       "      <th>mape</th>\n",
       "      <th>mdape</th>\n",
       "    </tr>\n",
       "  </thead>\n",
       "  <tbody>\n",
       "    <tr>\n",
       "      <th>0</th>\n",
       "      <td>2020-07-28</td>\n",
       "      <td>1483156</td>\n",
       "      <td>1.530102e+06</td>\n",
       "      <td>2203928890</td>\n",
       "      <td>46946</td>\n",
       "      <td>46946</td>\n",
       "      <td>0.03165</td>\n",
       "      <td>0.03165</td>\n",
       "    </tr>\n",
       "    <tr>\n",
       "      <th>1</th>\n",
       "      <td>2020-07-29</td>\n",
       "      <td>1581963</td>\n",
       "      <td>1.579664e+06</td>\n",
       "      <td>5283179</td>\n",
       "      <td>2298</td>\n",
       "      <td>2298</td>\n",
       "      <td>0.00145</td>\n",
       "      <td>0.00145</td>\n",
       "    </tr>\n",
       "    <tr>\n",
       "      <th>2</th>\n",
       "      <td>2020-07-30</td>\n",
       "      <td>1634746</td>\n",
       "      <td>1.630430e+06</td>\n",
       "      <td>18625574</td>\n",
       "      <td>4315</td>\n",
       "      <td>4315</td>\n",
       "      <td>0.00264</td>\n",
       "      <td>0.00264</td>\n",
       "    </tr>\n",
       "    <tr>\n",
       "      <th>3</th>\n",
       "      <td>2020-07-31</td>\n",
       "      <td>1695988</td>\n",
       "      <td>1.678412e+06</td>\n",
       "      <td>308907841</td>\n",
       "      <td>17575</td>\n",
       "      <td>17575</td>\n",
       "      <td>0.01036</td>\n",
       "      <td>0.01036</td>\n",
       "    </tr>\n",
       "    <tr>\n",
       "      <th>4</th>\n",
       "      <td>2020-08-01</td>\n",
       "      <td>1750723</td>\n",
       "      <td>1.728763e+06</td>\n",
       "      <td>482232245</td>\n",
       "      <td>21959</td>\n",
       "      <td>21959</td>\n",
       "      <td>0.01254</td>\n",
       "      <td>0.01254</td>\n",
       "    </tr>\n",
       "  </tbody>\n",
       "</table>\n",
       "</div>"
      ],
      "text/plain": [
       "          ds        y          yhat         mse   rmse    mae     mape  \\\n",
       "0 2020-07-28  1483156  1.530102e+06  2203928890  46946  46946  0.03165   \n",
       "1 2020-07-29  1581963  1.579664e+06     5283179   2298   2298  0.00145   \n",
       "2 2020-07-30  1634746  1.630430e+06    18625574   4315   4315  0.00264   \n",
       "3 2020-07-31  1695988  1.678412e+06   308907841  17575  17575  0.01036   \n",
       "4 2020-08-01  1750723  1.728763e+06   482232245  21959  21959  0.01254   \n",
       "\n",
       "     mdape  \n",
       "0  0.03165  \n",
       "1  0.00145  \n",
       "2  0.00264  \n",
       "3  0.01036  \n",
       "4  0.01254  "
      ]
     },
     "execution_count": 41,
     "metadata": {},
     "output_type": "execute_result"
    }
   ],
   "source": [
    "df5"
   ]
  },
  {
   "cell_type": "code",
   "execution_count": 42,
   "metadata": {},
   "outputs": [],
   "source": [
    "dates=arima_df.tail(10)['Date']\n",
    "aw=arima_df.tail(10)['Predicted']\n",
    "ai=arima_df1.tail(10)['Predicted for india']"
   ]
  },
  {
   "cell_type": "markdown",
   "metadata": {},
   "source": [
    "# Prediction results"
   ]
  },
  {
   "cell_type": "code",
   "execution_count": 43,
   "metadata": {},
   "outputs": [
    {
     "data": {
      "text/html": [
       "<div>\n",
       "<style scoped>\n",
       "    .dataframe tbody tr th:only-of-type {\n",
       "        vertical-align: middle;\n",
       "    }\n",
       "\n",
       "    .dataframe tbody tr th {\n",
       "        vertical-align: top;\n",
       "    }\n",
       "\n",
       "    .dataframe thead th {\n",
       "        text-align: right;\n",
       "    }\n",
       "</style>\n",
       "<table border=\"1\" class=\"dataframe\">\n",
       "  <thead>\n",
       "    <tr style=\"text-align: right;\">\n",
       "      <th></th>\n",
       "      <th>date</th>\n",
       "      <th>Arima prediction for world</th>\n",
       "      <th>Arima prediction for India</th>\n",
       "    </tr>\n",
       "  </thead>\n",
       "  <tbody>\n",
       "    <tr>\n",
       "      <th>0</th>\n",
       "      <td>2020-08-02</td>\n",
       "      <td>18037466</td>\n",
       "      <td>1778123</td>\n",
       "    </tr>\n",
       "    <tr>\n",
       "      <th>1</th>\n",
       "      <td>2020-08-03</td>\n",
       "      <td>18279693</td>\n",
       "      <td>1827868</td>\n",
       "    </tr>\n",
       "    <tr>\n",
       "      <th>2</th>\n",
       "      <td>2020-08-04</td>\n",
       "      <td>18539334</td>\n",
       "      <td>1878052</td>\n",
       "    </tr>\n",
       "    <tr>\n",
       "      <th>3</th>\n",
       "      <td>2020-08-05</td>\n",
       "      <td>18814280</td>\n",
       "      <td>1928216</td>\n",
       "    </tr>\n",
       "    <tr>\n",
       "      <th>4</th>\n",
       "      <td>2020-08-06</td>\n",
       "      <td>19088759</td>\n",
       "      <td>1978262</td>\n",
       "    </tr>\n",
       "    <tr>\n",
       "      <th>5</th>\n",
       "      <td>2020-08-07</td>\n",
       "      <td>19344970</td>\n",
       "      <td>2027957</td>\n",
       "    </tr>\n",
       "    <tr>\n",
       "      <th>6</th>\n",
       "      <td>2020-08-08</td>\n",
       "      <td>19584790</td>\n",
       "      <td>2078531</td>\n",
       "    </tr>\n",
       "    <tr>\n",
       "      <th>7</th>\n",
       "      <td>2020-08-09</td>\n",
       "      <td>19823879</td>\n",
       "      <td>2128475</td>\n",
       "    </tr>\n",
       "    <tr>\n",
       "      <th>8</th>\n",
       "      <td>2020-08-10</td>\n",
       "      <td>20072364</td>\n",
       "      <td>2178875</td>\n",
       "    </tr>\n",
       "    <tr>\n",
       "      <th>9</th>\n",
       "      <td>2020-08-11</td>\n",
       "      <td>20335709</td>\n",
       "      <td>2228963</td>\n",
       "    </tr>\n",
       "  </tbody>\n",
       "</table>\n",
       "</div>"
      ],
      "text/plain": [
       "        date  Arima prediction for world  Arima prediction for India\n",
       "0 2020-08-02                    18037466                     1778123\n",
       "1 2020-08-03                    18279693                     1827868\n",
       "2 2020-08-04                    18539334                     1878052\n",
       "3 2020-08-05                    18814280                     1928216\n",
       "4 2020-08-06                    19088759                     1978262\n",
       "5 2020-08-07                    19344970                     2027957\n",
       "6 2020-08-08                    19584790                     2078531\n",
       "7 2020-08-09                    19823879                     2128475\n",
       "8 2020-08-10                    20072364                     2178875\n",
       "9 2020-08-11                    20335709                     2228963"
      ]
     },
     "execution_count": 43,
     "metadata": {},
     "output_type": "execute_result"
    }
   ],
   "source": [
    "model_predictions=pd.DataFrame(zip(dates,aw,ai),columns=['date','Arima prediction for world','Arima prediction for India'])\n",
    "model_predictions"
   ]
  },
  {
   "cell_type": "code",
   "execution_count": null,
   "metadata": {},
   "outputs": [],
   "source": []
  },
  {
   "cell_type": "code",
   "execution_count": null,
   "metadata": {},
   "outputs": [],
   "source": []
  },
  {
   "cell_type": "code",
   "execution_count": null,
   "metadata": {},
   "outputs": [],
   "source": []
  }
 ],
 "metadata": {
  "kernelspec": {
   "display_name": "Python 3",
   "language": "python",
   "name": "python3"
  },
  "language_info": {
   "codemirror_mode": {
    "name": "ipython",
    "version": 3
   },
   "file_extension": ".py",
   "mimetype": "text/x-python",
   "name": "python",
   "nbconvert_exporter": "python",
   "pygments_lexer": "ipython3",
   "version": "3.7.3"
  }
 },
 "nbformat": 4,
 "nbformat_minor": 2
}
