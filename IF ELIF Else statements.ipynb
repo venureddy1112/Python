{
 "cells": [
  {
   "cell_type": "markdown",
   "metadata": {},
   "source": [
    "# IF ELIF Else statements"
   ]
  },
  {
   "cell_type": "code",
   "execution_count": 1,
   "metadata": {},
   "outputs": [
    {
     "name": "stdout",
     "output_type": "stream",
     "text": [
      "True\n"
     ]
    }
   ],
   "source": [
    "if 2>1:\n",
    "    print(\"True\")"
   ]
  },
  {
   "cell_type": "code",
   "execution_count": 2,
   "metadata": {},
   "outputs": [
    {
     "name": "stdout",
     "output_type": "stream",
     "text": [
      "2 is not equal 1\n"
     ]
    }
   ],
   "source": [
    "if 2==1:\n",
    "    print(\"2 is equal 1\")\n",
    "else:\n",
    "    print(\"2 is not equal 1\")"
   ]
  },
  {
   "cell_type": "code",
   "execution_count": 3,
   "metadata": {},
   "outputs": [
    {
     "name": "stdout",
     "output_type": "stream",
     "text": [
      "true2\n"
     ]
    }
   ],
   "source": [
    "if 20>25:\n",
    "    print(\"true\")\n",
    "elif 25==20:\n",
    "    print(\"true1\")\n",
    "elif 25!=20:\n",
    "    print(\"true2\")\n",
    "else:\n",
    "    print(\"false\")"
   ]
  },
  {
   "cell_type": "code",
   "execution_count": 4,
   "metadata": {},
   "outputs": [
    {
     "name": "stdout",
     "output_type": "stream",
     "text": [
      "true1\n"
     ]
    }
   ],
   "source": [
    "if (20>25) and (5==5):\n",
    "    print(\"true\")\n",
    "elif 25==20 or (5==5):\n",
    "    print(\"true1\")\n",
    "elif 25!=20 and (5==5):\n",
    "    print(\"true2\")\n",
    "else:\n",
    "    print(\"false\")"
   ]
  },
  {
   "cell_type": "code",
   "execution_count": 5,
   "metadata": {},
   "outputs": [
    {
     "name": "stdout",
     "output_type": "stream",
     "text": [
      "it worked\n"
     ]
    }
   ],
   "source": [
    "print(\"it worked\") if 10==10 else print(\"not worked\")"
   ]
  },
  {
   "cell_type": "code",
   "execution_count": 6,
   "metadata": {},
   "outputs": [
    {
     "name": "stdout",
     "output_type": "stream",
     "text": [
      "Failed\n"
     ]
    }
   ],
   "source": [
    "if (20>25) and (5==5):\n",
    "    print(\"true\")\n",
    "    if 55<45:\n",
    "        print(\"nested if worked\")\n",
    "        if 2==4:\n",
    "            print(\" nested2\")\n",
    "else:\n",
    "    print(\"Failed\")"
   ]
  },
  {
   "cell_type": "code",
   "execution_count": null,
   "metadata": {},
   "outputs": [],
   "source": []
  }
 ],
 "metadata": {
  "kernelspec": {
   "display_name": "Python 3",
   "language": "python",
   "name": "python3"
  },
  "language_info": {
   "codemirror_mode": {
    "name": "ipython",
    "version": 3
   },
   "file_extension": ".py",
   "mimetype": "text/x-python",
   "name": "python",
   "nbconvert_exporter": "python",
   "pygments_lexer": "ipython3",
   "version": "3.7.3"
  }
 },
 "nbformat": 4,
 "nbformat_minor": 2
}
